{
 "cells": [
  {
   "cell_type": "markdown",
   "metadata": {},
   "source": [
    "# Интеллектуальный анализ данных – весна 2022\n",
    "\n",
    "# Домашнее задание 7: Деревья. Случайный лес\n",
    "\n",
    "Правила:\n",
    "\n",
    "- Домашнее задание оценивается в 10 баллов (+1 бонусный балл).\n",
    "\n",
    "\n",
    "- Можно использовать без доказательства любые результаты, встречавшиеся на лекциях или семинарах по курсу, если получение этих результатов не является вопросом задания.\n",
    "\n",
    "\n",
    "- Можно использовать любые свободные источники с обязательным указанием ссылки на них.\n",
    "\n",
    "\n",
    "- Плагиат не допускается. При обнаружении случаев списывания, 0 за работу выставляется всем участникам нарушения, даже если можно установить, кто у кого списал.\n",
    "\n",
    "<!-- ![](meme.jpg) -->\n",
    "<img src=\"meme.jpg\" alt=\"Drawing\" style=\"width: 700px;\"/>"
   ]
  },
  {
   "cell_type": "markdown",
   "metadata": {},
   "source": [
    "## Часть 1: Основы построения решающие дерева (1.5 балла)\n",
    "\n",
    "В этой части все расчёты необходимо реализовывать в виде запрограммированных формул, например, на `numpy`. **Нельзя использовать готовые реализации**. Например, если в задании требуется рассчитать энтропию, то требуется в каком-то виде релизовать расчёт по формуле, но нельзя использовать готовую реализацию `some_module.entropy()`."
   ]
  },
  {
   "cell_type": "code",
   "execution_count": 1,
   "metadata": {},
   "outputs": [],
   "source": [
    "import numpy as np\n",
    "import pandas as pd\n",
    "import matplotlib.pyplot as plt"
   ]
  },
  {
   "cell_type": "markdown",
   "metadata": {},
   "source": [
    "**Задание 1.1 (0.5 балла)** Пусть известно, что в вершину решающего дерева попали 10 объектов, 8 из которых имеют метку класса $k_1$, а 2 имеют метку класса $k_2$. Рассчитайте энтропию такого распределения классов (с натуральным логарифмом). Ответ округлите до двух знаков после запятой."
   ]
  },
  {
   "cell_type": "code",
   "execution_count": 2,
   "metadata": {},
   "outputs": [
    {
     "data": {
      "text/plain": [
       "0.5"
      ]
     },
     "execution_count": 2,
     "metadata": {},
     "output_type": "execute_result"
    }
   ],
   "source": [
    "pks = [0.8, 0.2]\n",
    "np.round(-np.sum(pks * np.log(pks)), 2)"
   ]
  },
  {
   "cell_type": "markdown",
   "metadata": {},
   "source": [
    "**Задание 1.2 (0.5 балла)** Пусть дополнительно известно, что вершина из предыдущего задания не является листовой и возможно такое разбиение, что в левое поддерево попадут все объекты класса $k_1$, а в правое - класса $k_2$. Посчитайте критерий информативности:\n",
    "\n",
    "$$\n",
    "Q(R_m, j, t) = H(R_m) - \\frac{|R_\\ell|}{|R_m|}H(R_\\ell) - \\frac{|R_r|}{|R_m|}H(R_r),\n",
    "$$\n",
    "\n",
    "где $R_m$ - множество объектов в разбиваемой вершине, $j$ - номер признака, по которому происходит разбиение, $t$ - порог разбиения, $R_\\ell$ - множество объектов в левом поддереве, $R_r$ - множество объектов в правом поддереве.\n",
    "\n",
    "Теперь в качестве $H(R)$ будем использовать индекс Джини:\n",
    "\n",
    "$$\n",
    "H(R) = \\sum_{k=1}^J p_k(1-p_k),\n",
    "$$\n",
    "где $J$ – общее количество классов (в нашем случае, $J = 2$).\n",
    "\n",
    "Ответ округлите до двух знаков после запятой."
   ]
  },
  {
   "cell_type": "code",
   "execution_count": 57,
   "metadata": {},
   "outputs": [
    {
     "data": {
      "text/plain": [
       "0.32"
      ]
     },
     "execution_count": 57,
     "metadata": {},
     "output_type": "execute_result"
    }
   ],
   "source": [
    "H_m = 1 - 0.8 ** 2 - 0.2 ** 2\n",
    "H_l = H_r = 0\n",
    "Q = H_m - H_l * 8 / 10 - H_r * 2 / 10\n",
    "np.round(Q, 2)"
   ]
  },
  {
   "cell_type": "markdown",
   "metadata": {},
   "source": [
    "**Задание 1.3 (0.5 балла)** Пусть при построении дерева образовалась листовая вершина с 10 объектами, значения целевой переменной для которых следующие: [1, 10, 5, 18, 100, 30, 50, 61, 84, 47] (решается задача регрессии). Чему будут равны предсказания модели для этих объектов?"
   ]
  },
  {
   "cell_type": "code",
   "execution_count": 4,
   "metadata": {},
   "outputs": [
    {
     "data": {
      "text/plain": [
       "40.6"
      ]
     },
     "execution_count": 4,
     "metadata": {},
     "output_type": "execute_result"
    }
   ],
   "source": [
    "np.mean([1, 10, 5, 18, 100, 30, 50, 61, 84, 47])"
   ]
  },
  {
   "cell_type": "markdown",
   "metadata": {},
   "source": [
    "## Часть 2: Решающие деревья (4.5 балла)\n",
    "\n",
    "В этой части мы напишем и протестируем собственную реализацию решающего дерева."
   ]
  },
  {
   "cell_type": "code",
   "execution_count": 5,
   "metadata": {},
   "outputs": [],
   "source": [
    "from collections import Counter\n",
    "from typing import Dict, List, Tuple, Union"
   ]
  },
  {
   "cell_type": "markdown",
   "metadata": {},
   "source": [
    "**Задание 2.1 (1.5 балла)** Реализуйте функцию `find_best_split()`, которая должна находить оптимальное разбиение подмножества обучающей выборки в соответствии с информационным критерием из **Задания 1.2**. В качестве меры хаотичности $H(R)$ для задачи регрессии испольуйте дисперсию подвыборки, а для задачи классификации – критерий Джини (определён в том же задании).\n",
    "\n",
    "Для категориальных признаков применяется наивный алгоритм разбиения: мы пытаемся найти одно значение, разбиение по которому сильнее всего увеличит критерий информативности. Иными словами, объекты с конкретным значением признака отправляем в левое поддерево, остальные - в правое. Обратите внимание, что это далеко не оптимальные способ учёта категориальных признаков. Например, можно было бы на каждое значение категориального признака создавать отдельное поддерево или использовать более сложные подходы. Подробнее об этом можно прочитать в конспектах [лекций](https://github.com/esokolov/ml-course-hse/blob/master/2019-fall/lecture-notes/lecture07-trees.pdf) по машинному обучению на ПМИ (раздел «Учёт категориальных признаков»).\n",
    "\n",
    "В качестве подсказок реализации можете пользоваться кодом из бонусной части семинара по решающим деревьям.\n",
    "\n",
    "**Бонус:** Разрешается делать цикл для перебора порогов, но возможна имплементация без него. За имплементацию без цикла – **бонус 1 балл**."
   ]
  },
  {
   "cell_type": "code",
   "execution_count": 181,
   "metadata": {},
   "outputs": [],
   "source": [
    "def criterion_gini(pks):\n",
    "    # аналогичная запись\n",
    "    res = 1 - np.sum(np.power(pks,2), axis = 1)\n",
    "    return res"
   ]
  },
  {
   "cell_type": "markdown",
   "metadata": {},
   "source": [
    "##### А теперь рубрика ультра-мега-супер насрал ахахаххах. Знаю, код можно было написать и почище, но я побоялся итак окончательно запутаться, соу простите(( Зато комментариями не обделил"
   ]
  },
  {
   "cell_type": "code",
   "execution_count": 182,
   "metadata": {},
   "outputs": [],
   "source": [
    "def find_best_split(\n",
    "    feature_vector: Union[np.ndarray, pd.DataFrame], \n",
    "    target_vector: Union[np.ndarray, pd.Series],\n",
    "    task: str = \"classification\",\n",
    "    feature_type: str = \"real\"\n",
    ") -> Tuple[np.ndarray, np.ndarray, float, float]:\n",
    "    \"\"\"\n",
    "    Указания:\n",
    "    * Пороги, приводящие к попаданию в одно из поддеревьев пустого множества объектов, не рассматриваются.\n",
    "    * В качестве порогов, нужно брать среднее двух сосдених (при сортировке) значений признака\n",
    "    * Поведение функции в случае константного признака может быть любым.\n",
    "    * При одинаковых приростах Джини или дисперсии нужно выбирать минимальный сплит.\n",
    "    * За наличие в функции циклов балл будет снижен. Векторизуйте! :)\n",
    "\n",
    "    :param feature_vector: вещественнозначный вектор значений признака\n",
    "    :param target_vector: вектор классов объектов,  len(feature_vector) == len(target_vector)\n",
    "    :param task: либо `classification`, либо `regression`\n",
    "    :param feature_type: либо `real`, либо `categorical`\n",
    "    \n",
    "    :return thresholds: отсортированный по возрастанию вектор со всеми возможными порогами, по которым объекты можно\n",
    "     разделить на две различные подвыборки, или поддерева\n",
    "    :return ginis: вектор со значениями критерия Джини для каждого из порогов в thresholds len(ginis) == len(thresholds)\n",
    "    :return threshold_best: оптимальный порог (число)\n",
    "    :return gini_best: оптимальное значение критерия Джини (число)\n",
    "    \"\"\"  \n",
    "    arg_sort = np.argsort(feature_vector)\n",
    "    y_sorted = target_vector[arg_sort]\n",
    "    x_sorted = feature_vector[arg_sort]\n",
    "\n",
    "    x_unique, index_unique = np.unique(x_sorted, return_index = True) #ищем ункальные значения фичи и их позиции\n",
    "    index_unique = index_unique[1:]\n",
    "    if feature_type == 'real':\n",
    "        index_unique -= 1\n",
    "        \n",
    "    if len(x_unique) == 1: #если значение фичи единственно, то нельзя делить \n",
    "        return [[], [], -1, -1]\n",
    "\n",
    "    len_ = len(target_vector)\n",
    "    range_ = np.arange(len_)\n",
    "    \n",
    "    if task == 'classification':\n",
    "        # impurity текущей вершины\n",
    "        base_pks = np.unique(target_vector, return_counts = True)[1] / len(target_vector)\n",
    "        base_imp = criterion_gini(base_pks.reshape((1, -1)))\n",
    "        \n",
    "        matrix_indicator = np.zeros((len_, len(np.unique(target_vector)))) # матрица с one-hot метками классов\n",
    "        matrix_indicator[range_, y_sorted] = 1 # ставим 1 в нужных ячейках\n",
    "\n",
    "        sum_ = np.sum(matrix_indicator, axis = 0) # массив с числом элементов каждого класса \n",
    "\n",
    "        if feature_type == 'real':\n",
    "            # матрица для распределений объектов по классам для каждого разбиения\n",
    "            # получаем матрицу левых разбиений (строчка - число объектов каждого класса для разбиения)\n",
    "            cs_left = np.cumsum(matrix_indicator[:-1], axis = 0) \n",
    "            cs_right = (sum_ - cs_left) # получаем матрицу правых разбиений\n",
    "\n",
    "            l_range_ = range_[1:] #число объектов слева (начинаем с 1)\n",
    "            r_range_ = len_ - l_range_ # число объектов справа\n",
    "\n",
    "            #не все разбиения законны, поэтоу берем только в уникальных значениях фичи\n",
    "            cs_right = cs_right[index_unique]\n",
    "            cs_left = cs_left[index_unique]\n",
    "            r_range_ = r_range_[index_unique]\n",
    "            l_range_ = l_range_[index_unique]\n",
    "        else:\n",
    "            cs_left = np.cumsum(matrix_indicator, axis = 0)\n",
    "            # в случае категориальных признаков поступаем иначе, считаем суммы только в промежутках\n",
    "            cs_mid = cs_left[index_unique[1:]] - cs_left[index_unique[:-1]]\n",
    "            cs_top = cs_left[index_unique[0] - 1]\n",
    "            cs_bot = cs_left[-1] - cs_left[index_unique[-1] - 1]\n",
    "            \n",
    "            cs_left = np.vstack([cs_top, cs_mid, cs_bot])\n",
    "            cs_right = (sum_ - cs_left) \n",
    "            \n",
    "            l_range_ = np.array([index_unique[0], *(index_unique[1:] - index_unique[:-1]), len_ - index_unique[-1]])\n",
    "            r_range_ = len_ - l_range_\n",
    "\n",
    "        #получаем матрицы с вероятностями\n",
    "        matrix_prob_right = cs_right / r_range_.reshape((-1,1)) \n",
    "        matrix_prob_left = cs_left / l_range_.reshape((-1,1))\n",
    "\n",
    "        #тут мы считаем левые и правые гейны\n",
    "        gains_left = criterion_gini(matrix_prob_left)\n",
    "        gains_right = criterion_gini(matrix_prob_right)\n",
    "\n",
    "        impurity_arr = base_imp - (gains_right * r_range_ + gains_left * l_range_) / len_ #массив со всему impurity\n",
    "\n",
    "        #ищем максимум\n",
    "        index = np.argmax(impurity_arr)\n",
    "\n",
    "        #порог берем между 2мя значениями или уникальное категориальное значение\n",
    "        all_thr = (x_unique[:-1] + x_unique[1:]) / 2 if feature_type == 'real' else x_unique\n",
    "        thr_hold = all_thr[index]\n",
    "        \n",
    "        return [all_thr, impurity_arr, thr_hold, impurity_arr[index]]\n",
    "    \n",
    "    else:\n",
    "        base_imp = criterion_regr(target_vector.reshape(1, -1))\n",
    "        \n",
    "        # в случае вещественных признаков  делим на две части и считаем дисперсию\n",
    "        variance_before_after = lambda y_sorted, idx: np.array([np.var(y_sorted[:idx]), np.var(y_sorted[idx:])])\n",
    "        # в случае категориальных признаков считаем для конкретного и для всех остальных\n",
    "        variance_slice = lambda y_sorted, idx1, idx2: np.array([np.var(y_sorted[idx1: idx2]), np.var(np.hstack((y_sorted[:idx1], y_sorted[idx2:])))])\n",
    "        \n",
    "        if feature_type == 'real':\n",
    "            vimpurity = np.vectorize(variance_before_after, signature='(n),()->(2)')\n",
    "        else:\n",
    "            vimpurity = np.vectorize(variance_slice, signature='(n),(),()->(2)')\n",
    "        \n",
    "        gains = vimpurity(y_sorted, index_unique)\n",
    "        gains_left = gains[:, 0]\n",
    "        gains_right = gains[:, 1]\n",
    "        \n",
    "        if feature_type == 'real':\n",
    "            l_range_ = range_[1:]\n",
    "            l_range_ = l_range_[index_unique]\n",
    "            r_range_ = len_ - l_range_\n",
    "        else:\n",
    "            l_range_ = np.array([index_unique[0], *(index_unique[1:] - index_unique[:-1]), len_ - index_unique[-1]])\n",
    "            r_range_ = len_ - l_range_\n",
    "        \n",
    "        impurity_arr = base_imp - (gains_right * r_range_ + gains_left * l_range_) / len_\n",
    "        #ищем максимум\n",
    "        index = np.argmax(impurity_arr)        \n",
    "        all_thr = (x_unique[:-1] + x_unique[1:]) / 2 if feature_type == 'real' else x_unique\n",
    "        thr_hold = all_thr[index]\n",
    "        \n",
    "        return [all_thr, impurity_arr, thr_hold, impurity_arr[index]]"
   ]
  },
  {
   "cell_type": "markdown",
   "metadata": {},
   "source": [
    "Эту функцию можно протестировать на датасете `California`."
   ]
  },
  {
   "cell_type": "code",
   "execution_count": 183,
   "metadata": {},
   "outputs": [],
   "source": [
    "from sklearn.datasets import fetch_california_housing"
   ]
  },
  {
   "cell_type": "code",
   "execution_count": 184,
   "metadata": {},
   "outputs": [
    {
     "data": {
      "text/html": [
       "<div>\n",
       "<style scoped>\n",
       "    .dataframe tbody tr th:only-of-type {\n",
       "        vertical-align: middle;\n",
       "    }\n",
       "\n",
       "    .dataframe tbody tr th {\n",
       "        vertical-align: top;\n",
       "    }\n",
       "\n",
       "    .dataframe thead th {\n",
       "        text-align: right;\n",
       "    }\n",
       "</style>\n",
       "<table border=\"1\" class=\"dataframe\">\n",
       "  <thead>\n",
       "    <tr style=\"text-align: right;\">\n",
       "      <th></th>\n",
       "      <th>MedInc</th>\n",
       "      <th>HouseAge</th>\n",
       "      <th>AveRooms</th>\n",
       "      <th>AveBedrms</th>\n",
       "      <th>Population</th>\n",
       "      <th>AveOccup</th>\n",
       "      <th>Latitude</th>\n",
       "      <th>Longitude</th>\n",
       "    </tr>\n",
       "  </thead>\n",
       "  <tbody>\n",
       "    <tr>\n",
       "      <th>0</th>\n",
       "      <td>8.3252</td>\n",
       "      <td>41.0</td>\n",
       "      <td>6.984127</td>\n",
       "      <td>1.023810</td>\n",
       "      <td>322.0</td>\n",
       "      <td>2.555556</td>\n",
       "      <td>37.88</td>\n",
       "      <td>-122.23</td>\n",
       "    </tr>\n",
       "    <tr>\n",
       "      <th>1</th>\n",
       "      <td>8.3014</td>\n",
       "      <td>21.0</td>\n",
       "      <td>6.238137</td>\n",
       "      <td>0.971880</td>\n",
       "      <td>2401.0</td>\n",
       "      <td>2.109842</td>\n",
       "      <td>37.86</td>\n",
       "      <td>-122.22</td>\n",
       "    </tr>\n",
       "    <tr>\n",
       "      <th>2</th>\n",
       "      <td>7.2574</td>\n",
       "      <td>52.0</td>\n",
       "      <td>8.288136</td>\n",
       "      <td>1.073446</td>\n",
       "      <td>496.0</td>\n",
       "      <td>2.802260</td>\n",
       "      <td>37.85</td>\n",
       "      <td>-122.24</td>\n",
       "    </tr>\n",
       "    <tr>\n",
       "      <th>3</th>\n",
       "      <td>5.6431</td>\n",
       "      <td>52.0</td>\n",
       "      <td>5.817352</td>\n",
       "      <td>1.073059</td>\n",
       "      <td>558.0</td>\n",
       "      <td>2.547945</td>\n",
       "      <td>37.85</td>\n",
       "      <td>-122.25</td>\n",
       "    </tr>\n",
       "    <tr>\n",
       "      <th>4</th>\n",
       "      <td>3.8462</td>\n",
       "      <td>52.0</td>\n",
       "      <td>6.281853</td>\n",
       "      <td>1.081081</td>\n",
       "      <td>565.0</td>\n",
       "      <td>2.181467</td>\n",
       "      <td>37.85</td>\n",
       "      <td>-122.25</td>\n",
       "    </tr>\n",
       "  </tbody>\n",
       "</table>\n",
       "</div>"
      ],
      "text/plain": [
       "   MedInc  HouseAge  AveRooms  AveBedrms  Population  AveOccup  Latitude  \\\n",
       "0  8.3252      41.0  6.984127   1.023810       322.0  2.555556     37.88   \n",
       "1  8.3014      21.0  6.238137   0.971880      2401.0  2.109842     37.86   \n",
       "2  7.2574      52.0  8.288136   1.073446       496.0  2.802260     37.85   \n",
       "3  5.6431      52.0  5.817352   1.073059       558.0  2.547945     37.85   \n",
       "4  3.8462      52.0  6.281853   1.081081       565.0  2.181467     37.85   \n",
       "\n",
       "   Longitude  \n",
       "0    -122.23  \n",
       "1    -122.22  \n",
       "2    -122.24  \n",
       "3    -122.25  \n",
       "4    -122.25  "
      ]
     },
     "execution_count": 184,
     "metadata": {},
     "output_type": "execute_result"
    }
   ],
   "source": [
    "data = fetch_california_housing()\n",
    "X = pd.DataFrame(data=data[\"data\"], columns=data[\"feature_names\"])\n",
    "y = data[\"target\"]\n",
    "X.head()"
   ]
  },
  {
   "cell_type": "code",
   "execution_count": 185,
   "metadata": {},
   "outputs": [
    {
     "data": {
      "text/plain": [
       "array([4.526, 3.585, 3.521, ..., 0.923, 0.847, 0.894])"
      ]
     },
     "execution_count": 185,
     "metadata": {},
     "output_type": "execute_result"
    }
   ],
   "source": [
    "y"
   ]
  },
  {
   "cell_type": "markdown",
   "metadata": {},
   "source": [
    "Выведите график зависимости значения критерия ошибки от порогового значения при разбиении вершины по признаку `MedInc`."
   ]
  },
  {
   "cell_type": "code",
   "execution_count": 186,
   "metadata": {},
   "outputs": [],
   "source": [
    "# решаем задачу регресии\n",
    "all_thr, impurity_arr, thrs, best_imp = find_best_split(X.MedInc, y, task='regression')"
   ]
  },
  {
   "cell_type": "code",
   "execution_count": 187,
   "metadata": {},
   "outputs": [
    {
     "data": {
      "text/plain": [
       "(5.035500000000001, 0.23514786379786612)"
      ]
     },
     "execution_count": 187,
     "metadata": {},
     "output_type": "execute_result"
    }
   ],
   "source": [
    "thrs, best_imp"
   ]
  },
  {
   "cell_type": "code",
   "execution_count": 189,
   "metadata": {},
   "outputs": [
    {
     "data": {
      "image/png": "[encoded data removed]",
      "text/plain": [
       "<Figure size 432x288 with 1 Axes>"
      ]
     },
     "metadata": {
      "needs_background": "light"
     },
     "output_type": "display_data"
    }
   ],
   "source": [
    "plt.title('impurity от значения порога')\n",
    "plt.xlabel('threshold')\n",
    "plt.ylabel('impurity')\n",
    "plt.grid()\n",
    "plt.plot(all_thr, impurity_arr);"
   ]
  },
  {
   "cell_type": "markdown",
   "metadata": {},
   "source": [
    "Найдите лучший, с вашей точки зрения, предикат первой вершины решающего дерева."
   ]
  },
  {
   "attachments": {
    "image.png": {
     "image/png": "[encoded data removed]"
    }
   },
   "cell_type": "markdown",
   "metadata": {},
   "source": [
    "![image.png](attachment:image.png)"
   ]
  },
  {
   "cell_type": "markdown",
   "metadata": {},
   "source": [
    "##### Раз уж тут игра в вангу, то я думаю, что первым признаком вполне может быть AveRooms, так как в первую очередь цена зависит от площади, а эта велечина неплохо с ней кореллирует"
   ]
  },
  {
   "cell_type": "markdown",
   "metadata": {},
   "source": [
    "**Задание 2.2 (1 балл)** Разберитесь с написанным кодом решающего дерева, заполните пропуски в коде и реализуйте недостающий метод `_predict_node()`.\n",
    "\n",
    "Построение дерева осуществляется согласно базовому жадному алгоритму, предложенному в лекции в разделе «Построение дерева».\n",
    "- **Выбор лучшего разбиения** необходимо производить по критерию Джини.\n",
    "- **Критерий останова:** все объекты в листе относятся к одному классу или ни по одному признаку нельзя разбить выборку.\n",
    "- **Ответ в листе:** наиболее часто встречающийся класс в листе.\n",
    "\n",
    "В задаче также предлагается получить два бонуса, по баллу на каждый!\n",
    "\n",
    "- **Реализуйте способ обрабатывать пропуски в даннх и реализуйте его, пояснив свои действия.**\n",
    "- **Реализуйте метод оценки важности признаков.**"
   ]
  },
  {
   "cell_type": "code",
   "execution_count": 110,
   "metadata": {},
   "outputs": [],
   "source": [
    "class DecisionTree:\n",
    "    \n",
    "    def __init__(\n",
    "        self, \n",
    "        feature_types: Union[List[str], np.ndarray], \n",
    "        max_depth: int = None, \n",
    "        min_samples_split: int = None, \n",
    "        min_samples_leaf: int = None,\n",
    "        task: str = \"classification\"\n",
    "    ) -> None:\n",
    "        \n",
    "        if np.any(list(map(lambda x: x != \"real\" and x != \"categorical\", feature_types))):\n",
    "            raise ValueError(\"There is unknown feature type\")\n",
    "\n",
    "        # В этой переменной будем хранить узлы решающего дерева. Каждая вершина хранит в себе идентификатор того,\n",
    "        # является ли она листовой. Листовые вершины хранят значение класса для предсказания, нелистовые - правого и\n",
    "        # левого детей (поддеревья для продолжения процедуры предсказания)\n",
    "        self._tree = {}\n",
    "        \n",
    "        # типы признаков (категориальные или числовые)\n",
    "        self._feature_types = feature_types\n",
    "        \n",
    "        # гиперпараметры дерева\n",
    "        self._max_depth = max_depth\n",
    "        self._min_samples_split = min_samples_split\n",
    "        self._min_samples_leaf = min_samples_leaf\n",
    "        self.task = task\n",
    "        \n",
    "        # Переменная, если вы решите делать бонус\n",
    "        self._feature_importances = {i: 0 for i in range(len(feature_types))}\n",
    "        \n",
    "\n",
    "    def _fit_node(\n",
    "        self, \n",
    "        sub_X: np.ndarray, \n",
    "        sub_y: np.ndarray, \n",
    "        node: dict\n",
    "    ) -> None:\n",
    "        \n",
    "        # критерий останова\n",
    "        if np.all(sub_y == sub_y[0]):\n",
    "            node[\"type\"] = \"terminal\"\n",
    "            node[\"class\"] = sub_y[0]\n",
    "            return\n",
    "        \n",
    "\n",
    "        feature_best, threshold_best, gini_best, split = None, None, None, None\n",
    "        for feature in range(sub_X.shape[1]):\n",
    "            feature_type = self._feature_types[feature]\n",
    "            categories_map = {}\n",
    "\n",
    "            # подготавливаем признак для поиска оптимального порога\n",
    "            if feature_type == \"real\":\n",
    "                feature_vector = sub_X[:, feature]\n",
    "            elif feature_type == \"categorical\":\n",
    "                # здесь могла быть реализация более сложного подхода к обработке категориального признака\n",
    "                feature_vector = sub_X[:, feature]\n",
    "\n",
    "            # ищем оптимальный порог\n",
    "            _, _, threshold, gini = find_best_split(feature_vector, sub_y, self.task, feature_type)\n",
    "            \n",
    "            if gini_best is None or gini > gini_best:\n",
    "                feature_best = feature\n",
    "                gini_best = gini\n",
    "\n",
    "                # split - маска на объекты, которые должны попасть в левое поддерево\n",
    "                if feature_type == \"real\":\n",
    "                    threshold_best = threshold\n",
    "                    split = feature_vector < threshold_best\n",
    "                elif feature_type == \"categorical\":\n",
    "                    # в данной реализации это просто значение категории\n",
    "                    threshold_best = threshold\n",
    "                    split = feature_vector == threshold_best\n",
    "                else:\n",
    "                    raise ValueError\n",
    "\n",
    "        # записываем полученные сплиты в атрибуты класса\n",
    "        if feature_best is None:\n",
    "            node[\"type\"] = \"terminal\"\n",
    "            node[\"class\"] = Counter(sub_y).most_common(1)[0][0]\n",
    "            return\n",
    "        # считаем важность\n",
    "        self._feature_importances[feature_best] += gini_best\n",
    "\n",
    "        node[\"type\"] = \"nonterminal\"\n",
    "\n",
    "        node[\"feature_split\"] = feature_best\n",
    "        if self._feature_types[feature_best] == \"real\":\n",
    "            node[\"threshold\"] = threshold_best\n",
    "        elif self._feature_types[feature_best] == \"categorical\":\n",
    "            node[\"category_split\"] = threshold_best\n",
    "        else:\n",
    "            raise ValueError\n",
    "            \n",
    "        node[\"left_child\"], node[\"right_child\"] = {}, {}\n",
    "        self._fit_node(sub_X[split], sub_y[split], node[\"left_child\"])\n",
    "        self._fit_node(sub_X[np.logical_not(split)], sub_y[np.logical_not(split)], node[\"right_child\"])\n",
    "\n",
    "    def _predict_node(self, x: np.ndarray, node: dict) -> int:\n",
    "        \"\"\"\n",
    "        Предсказание начинается с корневой вершины дерева и рекурсивно идёт в левое или правое поддерево в зависимости от значения\n",
    "        предиката на объекте. Листовая вершина возвращает предсказание.\n",
    "        :param x: np.array, элемент выборки\n",
    "        :param node: dict, вершина дерева\n",
    "        \"\"\"\n",
    "        # ᕕ(╭ರ╭ ͟ʖ╮•́)⊃¤=(————\n",
    "        if node['type'] == 'terminal':\n",
    "            return node['class']\n",
    "        \n",
    "        feature = node['feature_split']\n",
    "        if self._feature_types[feature] == 'real':\n",
    "            indicator = lambda z: z < node['threshold']\n",
    "        else:\n",
    "            indicator = lambda z: z == node['category_split']\n",
    "        \n",
    "        next_node = node['left_child'] if indicator(x[feature]) else node['right_child']\n",
    "        return self._predict_node(x, next_node)\n",
    "        \n",
    "        \n",
    "    def fit(self, X: np.ndarray, y: np.ndarray) -> None:\n",
    "        self._fit_node(X, y, self._tree)\n",
    "\n",
    "    def predict(self, X: np.ndarray) -> np.ndarray:\n",
    "        predicted = []\n",
    "        for x in X:\n",
    "            predicted.append(self._predict_node(x, self._tree))\n",
    "            \n",
    "        return np.array(predicted)"
   ]
  },
  {
   "cell_type": "markdown",
   "metadata": {},
   "source": [
    "**Задание 2.3 (1 балл)** Загрузите таблицу `students.csv` (это немного преобразованный датасет [User Knowledge](https://archive.ics.uci.edu/ml/datasets/User+Knowledge+Modeling)). В ней признаки объекта записаны в первых пяти столбцах, а в последнем записана целевая переменная (класс: 0 или 1). Постройте на одном изображении пять кривых \"порог — значение критерия Джини\" для всех пяти признаков. Отдельно визуализируйте диаграммы рассеяния \"значение признака — класс\" для всех пяти признаков."
   ]
  },
  {
   "cell_type": "code",
   "execution_count": 58,
   "metadata": {},
   "outputs": [
    {
     "data": {
      "text/html": [
       "<div>\n",
       "<style scoped>\n",
       "    .dataframe tbody tr th:only-of-type {\n",
       "        vertical-align: middle;\n",
       "    }\n",
       "\n",
       "    .dataframe tbody tr th {\n",
       "        vertical-align: top;\n",
       "    }\n",
       "\n",
       "    .dataframe thead th {\n",
       "        text-align: right;\n",
       "    }\n",
       "</style>\n",
       "<table border=\"1\" class=\"dataframe\">\n",
       "  <thead>\n",
       "    <tr style=\"text-align: right;\">\n",
       "      <th></th>\n",
       "      <th>Unnamed: 0</th>\n",
       "      <th>STG</th>\n",
       "      <th>SCG</th>\n",
       "      <th>STR</th>\n",
       "      <th>LPR</th>\n",
       "      <th>PEG</th>\n",
       "      <th>UNS</th>\n",
       "    </tr>\n",
       "  </thead>\n",
       "  <tbody>\n",
       "    <tr>\n",
       "      <th>0</th>\n",
       "      <td>0</td>\n",
       "      <td>0.00</td>\n",
       "      <td>0.00</td>\n",
       "      <td>0.00</td>\n",
       "      <td>0.00</td>\n",
       "      <td>0.00</td>\n",
       "      <td>0</td>\n",
       "    </tr>\n",
       "    <tr>\n",
       "      <th>1</th>\n",
       "      <td>1</td>\n",
       "      <td>0.08</td>\n",
       "      <td>0.08</td>\n",
       "      <td>0.10</td>\n",
       "      <td>0.24</td>\n",
       "      <td>0.90</td>\n",
       "      <td>1</td>\n",
       "    </tr>\n",
       "    <tr>\n",
       "      <th>2</th>\n",
       "      <td>2</td>\n",
       "      <td>0.06</td>\n",
       "      <td>0.06</td>\n",
       "      <td>0.05</td>\n",
       "      <td>0.25</td>\n",
       "      <td>0.33</td>\n",
       "      <td>0</td>\n",
       "    </tr>\n",
       "    <tr>\n",
       "      <th>3</th>\n",
       "      <td>3</td>\n",
       "      <td>0.10</td>\n",
       "      <td>0.10</td>\n",
       "      <td>0.15</td>\n",
       "      <td>0.65</td>\n",
       "      <td>0.30</td>\n",
       "      <td>1</td>\n",
       "    </tr>\n",
       "    <tr>\n",
       "      <th>4</th>\n",
       "      <td>4</td>\n",
       "      <td>0.08</td>\n",
       "      <td>0.08</td>\n",
       "      <td>0.08</td>\n",
       "      <td>0.98</td>\n",
       "      <td>0.24</td>\n",
       "      <td>0</td>\n",
       "    </tr>\n",
       "  </tbody>\n",
       "</table>\n",
       "</div>"
      ],
      "text/plain": [
       "   Unnamed: 0   STG   SCG   STR   LPR   PEG  UNS\n",
       "0           0  0.00  0.00  0.00  0.00  0.00    0\n",
       "1           1  0.08  0.08  0.10  0.24  0.90    1\n",
       "2           2  0.06  0.06  0.05  0.25  0.33    0\n",
       "3           3  0.10  0.10  0.15  0.65  0.30    1\n",
       "4           4  0.08  0.08  0.08  0.98  0.24    0"
      ]
     },
     "execution_count": 58,
     "metadata": {},
     "output_type": "execute_result"
    }
   ],
   "source": [
    "students_df = pd.read_csv('students.csv')\n",
    "students_df.head()"
   ]
  },
  {
   "cell_type": "code",
   "execution_count": 65,
   "metadata": {},
   "outputs": [
    {
     "data": {
      "image/png": "[encoded data removed]",
      "text/plain": [
       "<Figure size 720x432 with 1 Axes>"
      ]
     },
     "metadata": {
      "needs_background": "light"
     },
     "output_type": "display_data"
    }
   ],
   "source": [
    "features = students_df.columns[1:-1]\n",
    "y = students_df.UNS\n",
    "\n",
    "plt.figure(figsize=(10, 6))\n",
    "for feature in features:\n",
    "    all_thr, impurity_arr, _, _ = find_best_split(students_df[feature], y) \n",
    "    plt.plot(all_thr, impurity_arr, label=feature)\n",
    "plt.grid()\n",
    "plt.title(\"Зависимость индекса Джинни от порога\")\n",
    "plt.xlabel('threshold')\n",
    "plt.ylabel('Gini index')\n",
    "plt.legend();"
   ]
  },
  {
   "cell_type": "code",
   "execution_count": 68,
   "metadata": {},
   "outputs": [
    {
     "data": {
      "image/png": "[encoded data removed]",
      "text/plain": [
       "<Figure size 432x288 with 1 Axes>"
      ]
     },
     "metadata": {
      "needs_background": "light"
     },
     "output_type": "display_data"
    },
    {
     "data": {
      "image/png": "[encoded data removed]",
      "text/plain": [
       "<Figure size 432x288 with 1 Axes>"
      ]
     },
     "metadata": {
      "needs_background": "light"
     },
     "output_type": "display_data"
    },
    {
     "data": {
      "image/png": "[encoded data removed]",
      "text/plain": [
       "<Figure size 432x288 with 1 Axes>"
      ]
     },
     "metadata": {
      "needs_background": "light"
     },
     "output_type": "display_data"
    },
    {
     "data": {
      "image/png": "[encoded data removed]",
      "text/plain": [
       "<Figure size 432x288 with 1 Axes>"
      ]
     },
     "metadata": {
      "needs_background": "light"
     },
     "output_type": "display_data"
    },
    {
     "data": {
      "image/png": "[encoded data removed]",
      "text/plain": [
       "<Figure size 432x288 with 1 Axes>"
      ]
     },
     "metadata": {
      "needs_background": "light"
     },
     "output_type": "display_data"
    }
   ],
   "source": [
    "import seaborn as sns\n",
    "\n",
    "for feature in features:\n",
    "    sns.scatterplot(x=feature, y='UNS', hue='UNS', data=students_df)\n",
    "    plt.show()"
   ]
  },
  {
   "cell_type": "markdown",
   "metadata": {},
   "source": [
    "Исходя из кривых значений критерия Джини, по какому признаку нужно производить деление выборки на два поддерева? Согласуется ли этот результат с визуальной оценкой диаграмм рассеяиния? Как бы охарактеризовали вид кривой для \"хороших\" признаков, по которым выборка делится почти идеально? Чем отличаются кривые для признаков, по которым деление практически невозможно?"
   ]
  },
  {
   "cell_type": "markdown",
   "metadata": {},
   "source": [
    "##### Исходя из кривых значений критерия Джини делить стоит по последниму признаку. Несомненно, данный результат согласуется с диаграммами рассеивания, т.к. можно провести прямую threshold, которая неплохо поделит выборку. В случае хорошего признака мы имеем вид кривой, похожую на параболу ветвями вниз или на функцию плотности нормального распр-ия, а в случае плохих почти прямую, то есть нет такого порога, при котором выборка хорошо делится"
   ]
  },
  {
   "cell_type": "markdown",
   "metadata": {},
   "source": [
    "**Задание 2.4 (1 балл)** Протестируйте свое решающее дерево на датасете [mushrooms](https://archive.ics.uci.edu/ml/datasets/Mushroom). \n",
    "\n",
    "1. Скачайте таблицу `agaricus-lepiota.data` (из [Data Folder](https://archive.ics.uci.edu/ml/machine-learning-databases/mushroom/)), \n",
    "2. Считайте таблицу при помощи `pandas`,\n",
    "3. Примените к каждому столбцу `LabelEncoder` (из `sklearn`), чтобы преобразовать строковые имена категорий в натуральные числа. \n",
    "\n",
    "Первый столбец — это целевая переменная (e — edible, p — poisonous) Мы будем измерять качество с помощью accuracy, так что нам не очень важно, что будет классом 1, а что — классом 0. Обучите решающее дерево на половине случайно выбранных объектов (признаки в датасете категориальные) и сделайте предсказания для оставшейся половины. Вычислите accuracy."
   ]
  },
  {
   "cell_type": "code",
   "execution_count": 171,
   "metadata": {},
   "outputs": [
    {
     "data": {
      "text/html": [
       "<div>\n",
       "<style scoped>\n",
       "    .dataframe tbody tr th:only-of-type {\n",
       "        vertical-align: middle;\n",
       "    }\n",
       "\n",
       "    .dataframe tbody tr th {\n",
       "        vertical-align: top;\n",
       "    }\n",
       "\n",
       "    .dataframe thead th {\n",
       "        text-align: right;\n",
       "    }\n",
       "</style>\n",
       "<table border=\"1\" class=\"dataframe\">\n",
       "  <thead>\n",
       "    <tr style=\"text-align: right;\">\n",
       "      <th></th>\n",
       "      <th>p</th>\n",
       "      <th>x</th>\n",
       "      <th>s</th>\n",
       "      <th>n</th>\n",
       "      <th>t</th>\n",
       "      <th>p.1</th>\n",
       "      <th>f</th>\n",
       "      <th>c</th>\n",
       "      <th>n.1</th>\n",
       "      <th>k</th>\n",
       "      <th>...</th>\n",
       "      <th>s.2</th>\n",
       "      <th>w</th>\n",
       "      <th>w.1</th>\n",
       "      <th>p.2</th>\n",
       "      <th>w.2</th>\n",
       "      <th>o</th>\n",
       "      <th>p.3</th>\n",
       "      <th>k.1</th>\n",
       "      <th>s.3</th>\n",
       "      <th>u</th>\n",
       "    </tr>\n",
       "  </thead>\n",
       "  <tbody>\n",
       "    <tr>\n",
       "      <th>0</th>\n",
       "      <td>e</td>\n",
       "      <td>x</td>\n",
       "      <td>s</td>\n",
       "      <td>y</td>\n",
       "      <td>t</td>\n",
       "      <td>a</td>\n",
       "      <td>f</td>\n",
       "      <td>c</td>\n",
       "      <td>b</td>\n",
       "      <td>k</td>\n",
       "      <td>...</td>\n",
       "      <td>s</td>\n",
       "      <td>w</td>\n",
       "      <td>w</td>\n",
       "      <td>p</td>\n",
       "      <td>w</td>\n",
       "      <td>o</td>\n",
       "      <td>p</td>\n",
       "      <td>n</td>\n",
       "      <td>n</td>\n",
       "      <td>g</td>\n",
       "    </tr>\n",
       "    <tr>\n",
       "      <th>1</th>\n",
       "      <td>e</td>\n",
       "      <td>b</td>\n",
       "      <td>s</td>\n",
       "      <td>w</td>\n",
       "      <td>t</td>\n",
       "      <td>l</td>\n",
       "      <td>f</td>\n",
       "      <td>c</td>\n",
       "      <td>b</td>\n",
       "      <td>n</td>\n",
       "      <td>...</td>\n",
       "      <td>s</td>\n",
       "      <td>w</td>\n",
       "      <td>w</td>\n",
       "      <td>p</td>\n",
       "      <td>w</td>\n",
       "      <td>o</td>\n",
       "      <td>p</td>\n",
       "      <td>n</td>\n",
       "      <td>n</td>\n",
       "      <td>m</td>\n",
       "    </tr>\n",
       "    <tr>\n",
       "      <th>2</th>\n",
       "      <td>p</td>\n",
       "      <td>x</td>\n",
       "      <td>y</td>\n",
       "      <td>w</td>\n",
       "      <td>t</td>\n",
       "      <td>p</td>\n",
       "      <td>f</td>\n",
       "      <td>c</td>\n",
       "      <td>n</td>\n",
       "      <td>n</td>\n",
       "      <td>...</td>\n",
       "      <td>s</td>\n",
       "      <td>w</td>\n",
       "      <td>w</td>\n",
       "      <td>p</td>\n",
       "      <td>w</td>\n",
       "      <td>o</td>\n",
       "      <td>p</td>\n",
       "      <td>k</td>\n",
       "      <td>s</td>\n",
       "      <td>u</td>\n",
       "    </tr>\n",
       "    <tr>\n",
       "      <th>3</th>\n",
       "      <td>e</td>\n",
       "      <td>x</td>\n",
       "      <td>s</td>\n",
       "      <td>g</td>\n",
       "      <td>f</td>\n",
       "      <td>n</td>\n",
       "      <td>f</td>\n",
       "      <td>w</td>\n",
       "      <td>b</td>\n",
       "      <td>k</td>\n",
       "      <td>...</td>\n",
       "      <td>s</td>\n",
       "      <td>w</td>\n",
       "      <td>w</td>\n",
       "      <td>p</td>\n",
       "      <td>w</td>\n",
       "      <td>o</td>\n",
       "      <td>e</td>\n",
       "      <td>n</td>\n",
       "      <td>a</td>\n",
       "      <td>g</td>\n",
       "    </tr>\n",
       "    <tr>\n",
       "      <th>4</th>\n",
       "      <td>e</td>\n",
       "      <td>x</td>\n",
       "      <td>y</td>\n",
       "      <td>y</td>\n",
       "      <td>t</td>\n",
       "      <td>a</td>\n",
       "      <td>f</td>\n",
       "      <td>c</td>\n",
       "      <td>b</td>\n",
       "      <td>n</td>\n",
       "      <td>...</td>\n",
       "      <td>s</td>\n",
       "      <td>w</td>\n",
       "      <td>w</td>\n",
       "      <td>p</td>\n",
       "      <td>w</td>\n",
       "      <td>o</td>\n",
       "      <td>p</td>\n",
       "      <td>k</td>\n",
       "      <td>n</td>\n",
       "      <td>g</td>\n",
       "    </tr>\n",
       "  </tbody>\n",
       "</table>\n",
       "<p>5 rows × 23 columns</p>\n",
       "</div>"
      ],
      "text/plain": [
       "   p  x  s  n  t p.1  f  c n.1  k  ... s.2  w w.1 p.2 w.2  o p.3 k.1 s.3  u\n",
       "0  e  x  s  y  t   a  f  c   b  k  ...   s  w   w   p   w  o   p   n   n  g\n",
       "1  e  b  s  w  t   l  f  c   b  n  ...   s  w   w   p   w  o   p   n   n  m\n",
       "2  p  x  y  w  t   p  f  c   n  n  ...   s  w   w   p   w  o   p   k   s  u\n",
       "3  e  x  s  g  f   n  f  w   b  k  ...   s  w   w   p   w  o   e   n   a  g\n",
       "4  e  x  y  y  t   a  f  c   b  n  ...   s  w   w   p   w  o   p   k   n  g\n",
       "\n",
       "[5 rows x 23 columns]"
      ]
     },
     "execution_count": 171,
     "metadata": {},
     "output_type": "execute_result"
    }
   ],
   "source": [
    "mushrooms_df = pd.read_csv('https://archive.ics.uci.edu/ml/machine-learning-databases/mushroom/agaricus-lepiota.data')\n",
    "mushrooms_df.head()"
   ]
  },
  {
   "cell_type": "code",
   "execution_count": 172,
   "metadata": {},
   "outputs": [
    {
     "data": {
      "text/html": [
       "<div>\n",
       "<style scoped>\n",
       "    .dataframe tbody tr th:only-of-type {\n",
       "        vertical-align: middle;\n",
       "    }\n",
       "\n",
       "    .dataframe tbody tr th {\n",
       "        vertical-align: top;\n",
       "    }\n",
       "\n",
       "    .dataframe thead th {\n",
       "        text-align: right;\n",
       "    }\n",
       "</style>\n",
       "<table border=\"1\" class=\"dataframe\">\n",
       "  <thead>\n",
       "    <tr style=\"text-align: right;\">\n",
       "      <th></th>\n",
       "      <th>p</th>\n",
       "      <th>x</th>\n",
       "      <th>s</th>\n",
       "      <th>n</th>\n",
       "      <th>t</th>\n",
       "      <th>p.1</th>\n",
       "      <th>f</th>\n",
       "      <th>c</th>\n",
       "      <th>n.1</th>\n",
       "      <th>k</th>\n",
       "      <th>...</th>\n",
       "      <th>s.2</th>\n",
       "      <th>w</th>\n",
       "      <th>w.1</th>\n",
       "      <th>p.2</th>\n",
       "      <th>w.2</th>\n",
       "      <th>o</th>\n",
       "      <th>p.3</th>\n",
       "      <th>k.1</th>\n",
       "      <th>s.3</th>\n",
       "      <th>u</th>\n",
       "    </tr>\n",
       "  </thead>\n",
       "  <tbody>\n",
       "    <tr>\n",
       "      <th>0</th>\n",
       "      <td>0</td>\n",
       "      <td>5</td>\n",
       "      <td>2</td>\n",
       "      <td>9</td>\n",
       "      <td>1</td>\n",
       "      <td>0</td>\n",
       "      <td>1</td>\n",
       "      <td>0</td>\n",
       "      <td>0</td>\n",
       "      <td>4</td>\n",
       "      <td>...</td>\n",
       "      <td>2</td>\n",
       "      <td>7</td>\n",
       "      <td>7</td>\n",
       "      <td>0</td>\n",
       "      <td>2</td>\n",
       "      <td>1</td>\n",
       "      <td>4</td>\n",
       "      <td>3</td>\n",
       "      <td>2</td>\n",
       "      <td>1</td>\n",
       "    </tr>\n",
       "    <tr>\n",
       "      <th>1</th>\n",
       "      <td>0</td>\n",
       "      <td>0</td>\n",
       "      <td>2</td>\n",
       "      <td>8</td>\n",
       "      <td>1</td>\n",
       "      <td>3</td>\n",
       "      <td>1</td>\n",
       "      <td>0</td>\n",
       "      <td>0</td>\n",
       "      <td>5</td>\n",
       "      <td>...</td>\n",
       "      <td>2</td>\n",
       "      <td>7</td>\n",
       "      <td>7</td>\n",
       "      <td>0</td>\n",
       "      <td>2</td>\n",
       "      <td>1</td>\n",
       "      <td>4</td>\n",
       "      <td>3</td>\n",
       "      <td>2</td>\n",
       "      <td>3</td>\n",
       "    </tr>\n",
       "    <tr>\n",
       "      <th>2</th>\n",
       "      <td>1</td>\n",
       "      <td>5</td>\n",
       "      <td>3</td>\n",
       "      <td>8</td>\n",
       "      <td>1</td>\n",
       "      <td>6</td>\n",
       "      <td>1</td>\n",
       "      <td>0</td>\n",
       "      <td>1</td>\n",
       "      <td>5</td>\n",
       "      <td>...</td>\n",
       "      <td>2</td>\n",
       "      <td>7</td>\n",
       "      <td>7</td>\n",
       "      <td>0</td>\n",
       "      <td>2</td>\n",
       "      <td>1</td>\n",
       "      <td>4</td>\n",
       "      <td>2</td>\n",
       "      <td>3</td>\n",
       "      <td>5</td>\n",
       "    </tr>\n",
       "    <tr>\n",
       "      <th>3</th>\n",
       "      <td>0</td>\n",
       "      <td>5</td>\n",
       "      <td>2</td>\n",
       "      <td>3</td>\n",
       "      <td>0</td>\n",
       "      <td>5</td>\n",
       "      <td>1</td>\n",
       "      <td>1</td>\n",
       "      <td>0</td>\n",
       "      <td>4</td>\n",
       "      <td>...</td>\n",
       "      <td>2</td>\n",
       "      <td>7</td>\n",
       "      <td>7</td>\n",
       "      <td>0</td>\n",
       "      <td>2</td>\n",
       "      <td>1</td>\n",
       "      <td>0</td>\n",
       "      <td>3</td>\n",
       "      <td>0</td>\n",
       "      <td>1</td>\n",
       "    </tr>\n",
       "    <tr>\n",
       "      <th>4</th>\n",
       "      <td>0</td>\n",
       "      <td>5</td>\n",
       "      <td>3</td>\n",
       "      <td>9</td>\n",
       "      <td>1</td>\n",
       "      <td>0</td>\n",
       "      <td>1</td>\n",
       "      <td>0</td>\n",
       "      <td>0</td>\n",
       "      <td>5</td>\n",
       "      <td>...</td>\n",
       "      <td>2</td>\n",
       "      <td>7</td>\n",
       "      <td>7</td>\n",
       "      <td>0</td>\n",
       "      <td>2</td>\n",
       "      <td>1</td>\n",
       "      <td>4</td>\n",
       "      <td>2</td>\n",
       "      <td>2</td>\n",
       "      <td>1</td>\n",
       "    </tr>\n",
       "  </tbody>\n",
       "</table>\n",
       "<p>5 rows × 23 columns</p>\n",
       "</div>"
      ],
      "text/plain": [
       "   p  x  s  n  t  p.1  f  c  n.1  k  ...  s.2  w  w.1  p.2  w.2  o  p.3  k.1  \\\n",
       "0  0  5  2  9  1    0  1  0    0  4  ...    2  7    7    0    2  1    4    3   \n",
       "1  0  0  2  8  1    3  1  0    0  5  ...    2  7    7    0    2  1    4    3   \n",
       "2  1  5  3  8  1    6  1  0    1  5  ...    2  7    7    0    2  1    4    2   \n",
       "3  0  5  2  3  0    5  1  1    0  4  ...    2  7    7    0    2  1    0    3   \n",
       "4  0  5  3  9  1    0  1  0    0  5  ...    2  7    7    0    2  1    4    2   \n",
       "\n",
       "   s.3  u  \n",
       "0    2  1  \n",
       "1    2  3  \n",
       "2    3  5  \n",
       "3    0  1  \n",
       "4    2  1  \n",
       "\n",
       "[5 rows x 23 columns]"
      ]
     },
     "execution_count": 172,
     "metadata": {},
     "output_type": "execute_result"
    }
   ],
   "source": [
    "from sklearn.preprocessing import LabelEncoder\n",
    "\n",
    "mushrooms_features = mushrooms_df.columns\n",
    "for feature in mushrooms_features:\n",
    "    encoder = LabelEncoder()\n",
    "    mushrooms_df[feature] = encoder.fit_transform(mushrooms_df[feature])\n",
    "mushrooms_df.head()"
   ]
  },
  {
   "cell_type": "code",
   "execution_count": 173,
   "metadata": {},
   "outputs": [],
   "source": [
    "y = mushrooms_df.p.values\n",
    "mushrooms_df.drop(columns='p', inplace=True)\n",
    "X = mushrooms_df.values"
   ]
  },
  {
   "cell_type": "code",
   "execution_count": 174,
   "metadata": {},
   "outputs": [],
   "source": [
    "from sklearn.model_selection import train_test_split\n",
    "\n",
    "X_train, X_test, y_train, y_test = train_test_split(X, y, test_size=0.5)"
   ]
  },
  {
   "cell_type": "code",
   "execution_count": 175,
   "metadata": {},
   "outputs": [],
   "source": [
    "from sklearn.metrics import accuracy_score"
   ]
  },
  {
   "cell_type": "code",
   "execution_count": 176,
   "metadata": {},
   "outputs": [
    {
     "name": "stdout",
     "output_type": "stream",
     "text": [
      "Wall time: 146 ms\n"
     ]
    },
    {
     "data": {
      "text/plain": [
       "1.0"
      ]
     },
     "execution_count": 176,
     "metadata": {},
     "output_type": "execute_result"
    }
   ],
   "source": [
    "%%time\n",
    "my_tree = DecisionTree(feature_types=['categorical'] * X_train.shape[1])\n",
    "my_tree.fit(X_train, y_train)\n",
    "accuracy_score(y_test, my_tree.predict(X_test))"
   ]
  },
  {
   "cell_type": "code",
   "execution_count": 177,
   "metadata": {},
   "outputs": [
    {
     "name": "stdout",
     "output_type": "stream",
     "text": [
      "Wall time: 159 ms\n"
     ]
    },
    {
     "data": {
      "text/plain": [
       "1.0"
      ]
     },
     "execution_count": 177,
     "metadata": {},
     "output_type": "execute_result"
    }
   ],
   "source": [
    "%%time\n",
    "my_tree = DecisionTree(feature_types=['real'] * X_train.shape[1])\n",
    "my_tree.fit(X_train, y_train)\n",
    "accuracy_score(y_test, my_tree.predict(X_test))"
   ]
  },
  {
   "cell_type": "code",
   "execution_count": 122,
   "metadata": {},
   "outputs": [],
   "source": [
    "from sklearn.tree import DecisionTreeClassifier"
   ]
  },
  {
   "cell_type": "code",
   "execution_count": 123,
   "metadata": {},
   "outputs": [
    {
     "name": "stdout",
     "output_type": "stream",
     "text": [
      "Wall time: 47.9 ms\n"
     ]
    },
    {
     "data": {
      "text/plain": [
       "1.0"
      ]
     },
     "execution_count": 123,
     "metadata": {},
     "output_type": "execute_result"
    }
   ],
   "source": [
    "%%time\n",
    "tree = DecisionTreeClassifier().fit(X_train, y_train)\n",
    "accuracy_score(y_test, tree.predict(X_test))"
   ]
  },
  {
   "cell_type": "markdown",
   "metadata": {},
   "source": [
    "##### Моя реализация медленее всего в 3 раза!!! Циклами куда хуже"
   ]
  },
  {
   "cell_type": "code",
   "execution_count": 180,
   "metadata": {},
   "outputs": [
    {
     "data": {
      "text/plain": [
       "<BarContainer object of 22 artists>"
      ]
     },
     "execution_count": 180,
     "metadata": {},
     "output_type": "execute_result"
    },
    {
     "data": {
      "image/png": "[encoded data removed]",
      "text/plain": [
       "<Figure size 1080x504 with 1 Axes>"
      ]
     },
     "metadata": {
      "needs_background": "light"
     },
     "output_type": "display_data"
    }
   ],
   "source": [
    "feature_importances = my_tree._feature_importances\n",
    "plt.figure(figsize=(15, 7))\n",
    "plt.bar(mushrooms_df.columns, feature_importances.values())"
   ]
  },
  {
   "cell_type": "code",
   "execution_count": null,
   "metadata": {},
   "outputs": [],
   "source": []
  },
  {
   "cell_type": "markdown",
   "metadata": {},
   "source": [
    "## Часть 3: Бэггинг и случайный лес (4 балла)"
   ]
  },
  {
   "cell_type": "markdown",
   "metadata": {},
   "source": [
    "В данной части мы будем работать [с задачей предсказания диабета у пациента](https://www.kaggle.com/uciml/pima-indians-diabetes-database/data). Посмотрим на работу бэггинга над решающими деревьями и случайного леса, сравним их работу."
   ]
  },
  {
   "cell_type": "code",
   "execution_count": 124,
   "metadata": {},
   "outputs": [],
   "source": [
    "from sklearn.ensemble import BaggingClassifier, RandomForestClassifier\n",
    "from sklearn.metrics import accuracy_score, precision_score, recall_score, roc_auc_score\n",
    "from sklearn.model_selection import train_test_split\n",
    "from sklearn.tree import DecisionTreeClassifier"
   ]
  },
  {
   "cell_type": "code",
   "execution_count": 125,
   "metadata": {
    "scrolled": true
   },
   "outputs": [
    {
     "name": "stdout",
     "output_type": "stream",
     "text": [
      "Dataset shape: (768, 9)\n"
     ]
    },
    {
     "data": {
      "text/html": [
       "<div>\n",
       "<style scoped>\n",
       "    .dataframe tbody tr th:only-of-type {\n",
       "        vertical-align: middle;\n",
       "    }\n",
       "\n",
       "    .dataframe tbody tr th {\n",
       "        vertical-align: top;\n",
       "    }\n",
       "\n",
       "    .dataframe thead th {\n",
       "        text-align: right;\n",
       "    }\n",
       "</style>\n",
       "<table border=\"1\" class=\"dataframe\">\n",
       "  <thead>\n",
       "    <tr style=\"text-align: right;\">\n",
       "      <th></th>\n",
       "      <th>Pregnancies</th>\n",
       "      <th>Glucose</th>\n",
       "      <th>BloodPressure</th>\n",
       "      <th>SkinThickness</th>\n",
       "      <th>Insulin</th>\n",
       "      <th>BMI</th>\n",
       "      <th>DiabetesPedigreeFunction</th>\n",
       "      <th>Age</th>\n",
       "      <th>Outcome</th>\n",
       "    </tr>\n",
       "  </thead>\n",
       "  <tbody>\n",
       "    <tr>\n",
       "      <th>0</th>\n",
       "      <td>6</td>\n",
       "      <td>148</td>\n",
       "      <td>72</td>\n",
       "      <td>35</td>\n",
       "      <td>0</td>\n",
       "      <td>33.6</td>\n",
       "      <td>0.627</td>\n",
       "      <td>50</td>\n",
       "      <td>1</td>\n",
       "    </tr>\n",
       "    <tr>\n",
       "      <th>1</th>\n",
       "      <td>1</td>\n",
       "      <td>85</td>\n",
       "      <td>66</td>\n",
       "      <td>29</td>\n",
       "      <td>0</td>\n",
       "      <td>26.6</td>\n",
       "      <td>0.351</td>\n",
       "      <td>31</td>\n",
       "      <td>0</td>\n",
       "    </tr>\n",
       "    <tr>\n",
       "      <th>2</th>\n",
       "      <td>8</td>\n",
       "      <td>183</td>\n",
       "      <td>64</td>\n",
       "      <td>0</td>\n",
       "      <td>0</td>\n",
       "      <td>23.3</td>\n",
       "      <td>0.672</td>\n",
       "      <td>32</td>\n",
       "      <td>1</td>\n",
       "    </tr>\n",
       "    <tr>\n",
       "      <th>3</th>\n",
       "      <td>1</td>\n",
       "      <td>89</td>\n",
       "      <td>66</td>\n",
       "      <td>23</td>\n",
       "      <td>94</td>\n",
       "      <td>28.1</td>\n",
       "      <td>0.167</td>\n",
       "      <td>21</td>\n",
       "      <td>0</td>\n",
       "    </tr>\n",
       "    <tr>\n",
       "      <th>4</th>\n",
       "      <td>0</td>\n",
       "      <td>137</td>\n",
       "      <td>40</td>\n",
       "      <td>35</td>\n",
       "      <td>168</td>\n",
       "      <td>43.1</td>\n",
       "      <td>2.288</td>\n",
       "      <td>33</td>\n",
       "      <td>1</td>\n",
       "    </tr>\n",
       "  </tbody>\n",
       "</table>\n",
       "</div>"
      ],
      "text/plain": [
       "   Pregnancies  Glucose  BloodPressure  SkinThickness  Insulin   BMI  \\\n",
       "0            6      148             72             35        0  33.6   \n",
       "1            1       85             66             29        0  26.6   \n",
       "2            8      183             64              0        0  23.3   \n",
       "3            1       89             66             23       94  28.1   \n",
       "4            0      137             40             35      168  43.1   \n",
       "\n",
       "   DiabetesPedigreeFunction  Age  Outcome  \n",
       "0                     0.627   50        1  \n",
       "1                     0.351   31        0  \n",
       "2                     0.672   32        1  \n",
       "3                     0.167   21        0  \n",
       "4                     2.288   33        1  "
      ]
     },
     "execution_count": 125,
     "metadata": {},
     "output_type": "execute_result"
    }
   ],
   "source": [
    "data = pd.read_csv('diabetes.csv')\n",
    "print(f\"Dataset shape: {data.shape}\")\n",
    "data.head()"
   ]
  },
  {
   "cell_type": "markdown",
   "metadata": {},
   "source": [
    "Посмотрим на распределение целевой переменной"
   ]
  },
  {
   "cell_type": "code",
   "execution_count": 126,
   "metadata": {},
   "outputs": [
    {
     "data": {
      "image/png": "[encoded data removed]",
      "text/plain": [
       "<Figure size 432x288 with 1 Axes>"
      ]
     },
     "metadata": {
      "needs_background": "light"
     },
     "output_type": "display_data"
    }
   ],
   "source": [
    "data['Outcome'].hist()\n",
    "plt.show()"
   ]
  },
  {
   "cell_type": "markdown",
   "metadata": {},
   "source": [
    "**Задание 3.1 (0.5 балла)** Разделите данные на признаки и целевую переменную. Разбейте датасет на обучающую и тестовую части в отношении 7:3. Затем разделите обучающую выборку на обучающую-обучающую и обучающую-валидационную в соотношении 7:3 (то есть в итоге должно получиться три выборки: обучающая-обучающая (0.49 от исходного датасета), обучающая-валидационная (0.21 от исходного датасета) и тестовая (0.3 от исходного датасета)."
   ]
  },
  {
   "cell_type": "code",
   "execution_count": 140,
   "metadata": {},
   "outputs": [],
   "source": [
    "cols = data.columns[:-1]\n",
    "y = data.Outcome\n",
    "X = data[cols].values"
   ]
  },
  {
   "cell_type": "code",
   "execution_count": 142,
   "metadata": {},
   "outputs": [],
   "source": [
    "X_train_val, X_test, y_train_val, y_test = train_test_split(X, y, test_size=0.3)\n",
    "X_train, X_val, y_train, y_val = train_test_split(X_train_val, y_train_val, test_size=0.3)"
   ]
  },
  {
   "cell_type": "code",
   "execution_count": 143,
   "metadata": {},
   "outputs": [
    {
     "name": "stdout",
     "output_type": "stream",
     "text": [
      "train  375\n",
      "val  162\n",
      "test  231\n"
     ]
    }
   ],
   "source": [
    "print('train ', len(y_train))\n",
    "print('val ', len(y_val))\n",
    "print('test ', len(y_test))"
   ]
  },
  {
   "cell_type": "markdown",
   "metadata": {},
   "source": [
    "**Задание 3.2 (1 балл)** На обучающей-валидационной выборке подберите оптимальные значения гиперпараметров `max_depth` и `min_samples_leaf` для `DecisionTreeClassifier`. Для этого:\n",
    "1. Создайте списки с возможными значениями для перебора.\n",
    "2. Для каждой пары значений обучите дерево на обучающей-обучающей выборке и определите качество на обучающей-валидационной выборке. В качестве критерия будем использовать `f1-меру`.\n",
    "3. Выберите ту пару значений, которая даёт наилучшее качество на обучающей-валидационной выборке. \n",
    "\n",
    "\n",
    "Обучите решающее дерево с подобранными гиперпараметрами на **полной обучающей** выборке. Оцените качество классификации на тестовой выборке по метрикам `accuracy`, `precision` и `recall`, `auc_roc`."
   ]
  },
  {
   "cell_type": "code",
   "execution_count": 134,
   "metadata": {},
   "outputs": [],
   "source": [
    "from tqdm.notebook import tqdm\n",
    "from sklearn.metrics import f1_score"
   ]
  },
  {
   "cell_type": "code",
   "execution_count": 144,
   "metadata": {},
   "outputs": [
    {
     "data": {
      "application/vnd.jupyter.widget-view+json": {
       "model_id": "fd162e49b902443992d7d05c736496cd",
       "version_major": 2,
       "version_minor": 0
      },
      "text/plain": [
       "  0%|          | 0/280 [00:00<?, ?it/s]"
      ]
     },
     "metadata": {},
     "output_type": "display_data"
    },
    {
     "name": "stdout",
     "output_type": "stream",
     "text": [
      "depth: 1\tmin_n_leaf: 2 f1_score: 0.6456692913385826\n",
      "depth: 3\tmin_n_leaf: 2 f1_score: 0.5263157894736843\n",
      "depth: 5\tmin_n_leaf: 2 f1_score: 0.6542056074766355\n",
      "depth: 7\tmin_n_leaf: 2 f1_score: 0.5925925925925926\n",
      "depth: 9\tmin_n_leaf: 2 f1_score: 0.5142857142857142\n",
      "depth: 11\tmin_n_leaf: 2 f1_score: 0.5849056603773585\n",
      "depth: 13\tmin_n_leaf: 2 f1_score: 0.5794392523364487\n",
      "depth: 15\tmin_n_leaf: 2 f1_score: 0.5714285714285714\n",
      "depth: 17\tmin_n_leaf: 2 f1_score: 0.5740740740740742\n",
      "depth: 19\tmin_n_leaf: 2 f1_score: 0.5740740740740742\n",
      "depth: 1\tmin_n_leaf: 3 f1_score: 0.6456692913385826\n",
      "depth: 3\tmin_n_leaf: 3 f1_score: 0.5263157894736843\n",
      "depth: 5\tmin_n_leaf: 3 f1_score: 0.6285714285714287\n",
      "depth: 7\tmin_n_leaf: 3 f1_score: 0.5904761904761906\n",
      "depth: 9\tmin_n_leaf: 3 f1_score: 0.6071428571428571\n",
      "depth: 11\tmin_n_leaf: 3 f1_score: 0.5504587155963302\n",
      "depth: 13\tmin_n_leaf: 3 f1_score: 0.5714285714285714\n",
      "depth: 15\tmin_n_leaf: 3 f1_score: 0.5576923076923077\n",
      "depth: 17\tmin_n_leaf: 3 f1_score: 0.5925925925925926\n",
      "depth: 19\tmin_n_leaf: 3 f1_score: 0.5420560747663552\n",
      "depth: 1\tmin_n_leaf: 4 f1_score: 0.6456692913385826\n",
      "depth: 3\tmin_n_leaf: 4 f1_score: 0.6\n",
      "depth: 5\tmin_n_leaf: 4 f1_score: 0.5825242718446602\n",
      "depth: 7\tmin_n_leaf: 4 f1_score: 0.5137614678899083\n",
      "depth: 9\tmin_n_leaf: 4 f1_score: 0.5094339622641509\n",
      "depth: 11\tmin_n_leaf: 4 f1_score: 0.5094339622641509\n",
      "depth: 13\tmin_n_leaf: 4 f1_score: 0.5094339622641509\n",
      "depth: 15\tmin_n_leaf: 4 f1_score: 0.49523809523809526\n",
      "depth: 17\tmin_n_leaf: 4 f1_score: 0.49523809523809526\n",
      "depth: 19\tmin_n_leaf: 4 f1_score: 0.5094339622641509\n",
      "depth: 1\tmin_n_leaf: 5 f1_score: 0.6456692913385826\n",
      "depth: 3\tmin_n_leaf: 5 f1_score: 0.6\n",
      "depth: 5\tmin_n_leaf: 5 f1_score: 0.5544554455445544\n",
      "depth: 7\tmin_n_leaf: 5 f1_score: 0.5\n",
      "depth: 9\tmin_n_leaf: 5 f1_score: 0.49523809523809526\n",
      "depth: 11\tmin_n_leaf: 5 f1_score: 0.49523809523809526\n",
      "depth: 13\tmin_n_leaf: 5 f1_score: 0.5094339622641509\n",
      "depth: 15\tmin_n_leaf: 5 f1_score: 0.49523809523809526\n",
      "depth: 17\tmin_n_leaf: 5 f1_score: 0.5094339622641509\n",
      "depth: 19\tmin_n_leaf: 5 f1_score: 0.49523809523809526\n",
      "depth: 1\tmin_n_leaf: 6 f1_score: 0.6456692913385826\n",
      "depth: 3\tmin_n_leaf: 6 f1_score: 0.6\n",
      "depth: 5\tmin_n_leaf: 6 f1_score: 0.5544554455445544\n",
      "depth: 7\tmin_n_leaf: 6 f1_score: 0.5\n",
      "depth: 9\tmin_n_leaf: 6 f1_score: 0.5094339622641509\n",
      "depth: 11\tmin_n_leaf: 6 f1_score: 0.49523809523809526\n",
      "depth: 13\tmin_n_leaf: 6 f1_score: 0.49523809523809526\n",
      "depth: 15\tmin_n_leaf: 6 f1_score: 0.49523809523809526\n",
      "depth: 17\tmin_n_leaf: 6 f1_score: 0.49523809523809526\n",
      "depth: 19\tmin_n_leaf: 6 f1_score: 0.5094339622641509\n",
      "depth: 1\tmin_n_leaf: 7 f1_score: 0.6456692913385826\n",
      "depth: 3\tmin_n_leaf: 7 f1_score: 0.6\n",
      "depth: 5\tmin_n_leaf: 7 f1_score: 0.631578947368421\n",
      "depth: 7\tmin_n_leaf: 7 f1_score: 0.5789473684210527\n",
      "depth: 9\tmin_n_leaf: 7 f1_score: 0.5789473684210527\n",
      "depth: 11\tmin_n_leaf: 7 f1_score: 0.5789473684210527\n",
      "depth: 13\tmin_n_leaf: 7 f1_score: 0.5789473684210527\n",
      "depth: 15\tmin_n_leaf: 7 f1_score: 0.5789473684210527\n",
      "depth: 17\tmin_n_leaf: 7 f1_score: 0.5789473684210527\n",
      "depth: 19\tmin_n_leaf: 7 f1_score: 0.5789473684210527\n",
      "depth: 1\tmin_n_leaf: 8 f1_score: 0.6456692913385826\n",
      "depth: 3\tmin_n_leaf: 8 f1_score: 0.6\n",
      "depth: 5\tmin_n_leaf: 8 f1_score: 0.631578947368421\n",
      "depth: 7\tmin_n_leaf: 8 f1_score: 0.6017699115044247\n",
      "depth: 9\tmin_n_leaf: 8 f1_score: 0.5871559633027523\n",
      "depth: 11\tmin_n_leaf: 8 f1_score: 0.5945945945945946\n",
      "depth: 13\tmin_n_leaf: 8 f1_score: 0.5871559633027523\n",
      "depth: 15\tmin_n_leaf: 8 f1_score: 0.5871559633027523\n",
      "depth: 17\tmin_n_leaf: 8 f1_score: 0.5945945945945946\n",
      "depth: 19\tmin_n_leaf: 8 f1_score: 0.5945945945945946\n",
      "depth: 1\tmin_n_leaf: 9 f1_score: 0.6456692913385826\n",
      "depth: 3\tmin_n_leaf: 9 f1_score: 0.6\n",
      "depth: 5\tmin_n_leaf: 9 f1_score: 0.631578947368421\n",
      "depth: 7\tmin_n_leaf: 9 f1_score: 0.6260869565217391\n",
      "depth: 9\tmin_n_leaf: 9 f1_score: 0.6260869565217391\n",
      "depth: 11\tmin_n_leaf: 9 f1_score: 0.6140350877192982\n",
      "depth: 13\tmin_n_leaf: 9 f1_score: 0.6260869565217391\n",
      "depth: 15\tmin_n_leaf: 9 f1_score: 0.6260869565217391\n",
      "depth: 17\tmin_n_leaf: 9 f1_score: 0.6140350877192982\n",
      "depth: 19\tmin_n_leaf: 9 f1_score: 0.6260869565217391\n",
      "depth: 1\tmin_n_leaf: 10 f1_score: 0.6456692913385826\n",
      "depth: 3\tmin_n_leaf: 10 f1_score: 0.6\n",
      "depth: 5\tmin_n_leaf: 10 f1_score: 0.6363636363636364\n",
      "depth: 7\tmin_n_leaf: 10 f1_score: 0.6271186440677966\n",
      "depth: 9\tmin_n_leaf: 10 f1_score: 0.6271186440677966\n",
      "depth: 11\tmin_n_leaf: 10 f1_score: 0.6271186440677966\n",
      "depth: 13\tmin_n_leaf: 10 f1_score: 0.6271186440677966\n",
      "depth: 15\tmin_n_leaf: 10 f1_score: 0.6271186440677966\n",
      "depth: 17\tmin_n_leaf: 10 f1_score: 0.6271186440677966\n",
      "depth: 19\tmin_n_leaf: 10 f1_score: 0.6271186440677966\n",
      "depth: 1\tmin_n_leaf: 11 f1_score: 0.6456692913385826\n",
      "depth: 3\tmin_n_leaf: 11 f1_score: 0.6\n",
      "depth: 5\tmin_n_leaf: 11 f1_score: 0.6363636363636364\n",
      "depth: 7\tmin_n_leaf: 11 f1_score: 0.6271186440677966\n",
      "depth: 9\tmin_n_leaf: 11 f1_score: 0.6271186440677966\n",
      "depth: 11\tmin_n_leaf: 11 f1_score: 0.6271186440677966\n",
      "depth: 13\tmin_n_leaf: 11 f1_score: 0.6271186440677966\n",
      "depth: 15\tmin_n_leaf: 11 f1_score: 0.6271186440677966\n",
      "depth: 17\tmin_n_leaf: 11 f1_score: 0.6271186440677966\n",
      "depth: 19\tmin_n_leaf: 11 f1_score: 0.6271186440677966\n",
      "depth: 1\tmin_n_leaf: 12 f1_score: 0.6456692913385826\n",
      "depth: 3\tmin_n_leaf: 12 f1_score: 0.6\n",
      "depth: 5\tmin_n_leaf: 12 f1_score: 0.6363636363636364\n",
      "depth: 7\tmin_n_leaf: 12 f1_score: 0.628099173553719\n",
      "depth: 9\tmin_n_leaf: 12 f1_score: 0.628099173553719\n",
      "depth: 11\tmin_n_leaf: 12 f1_score: 0.628099173553719\n",
      "depth: 13\tmin_n_leaf: 12 f1_score: 0.628099173553719\n",
      "depth: 15\tmin_n_leaf: 12 f1_score: 0.628099173553719\n",
      "depth: 17\tmin_n_leaf: 12 f1_score: 0.628099173553719\n",
      "depth: 19\tmin_n_leaf: 12 f1_score: 0.628099173553719\n",
      "depth: 1\tmin_n_leaf: 13 f1_score: 0.6456692913385826\n",
      "depth: 3\tmin_n_leaf: 13 f1_score: 0.6\n",
      "depth: 5\tmin_n_leaf: 13 f1_score: 0.6363636363636364\n",
      "depth: 7\tmin_n_leaf: 13 f1_score: 0.6324786324786325\n",
      "depth: 9\tmin_n_leaf: 13 f1_score: 0.628099173553719\n",
      "depth: 11\tmin_n_leaf: 13 f1_score: 0.6324786324786325\n",
      "depth: 13\tmin_n_leaf: 13 f1_score: 0.628099173553719\n",
      "depth: 15\tmin_n_leaf: 13 f1_score: 0.6324786324786325\n",
      "depth: 17\tmin_n_leaf: 13 f1_score: 0.628099173553719\n",
      "depth: 19\tmin_n_leaf: 13 f1_score: 0.6324786324786325\n",
      "depth: 1\tmin_n_leaf: 14 f1_score: 0.6456692913385826\n",
      "depth: 3\tmin_n_leaf: 14 f1_score: 0.6\n",
      "depth: 5\tmin_n_leaf: 14 f1_score: 0.6285714285714287\n",
      "depth: 7\tmin_n_leaf: 14 f1_score: 0.6037735849056605\n",
      "depth: 9\tmin_n_leaf: 14 f1_score: 0.6037735849056605\n",
      "depth: 11\tmin_n_leaf: 14 f1_score: 0.6037735849056605\n",
      "depth: 13\tmin_n_leaf: 14 f1_score: 0.6037735849056605\n",
      "depth: 15\tmin_n_leaf: 14 f1_score: 0.6037735849056605\n",
      "depth: 17\tmin_n_leaf: 14 f1_score: 0.6037735849056605\n",
      "depth: 19\tmin_n_leaf: 14 f1_score: 0.6037735849056605\n",
      "depth: 1\tmin_n_leaf: 15 f1_score: 0.6456692913385826\n",
      "depth: 3\tmin_n_leaf: 15 f1_score: 0.613861386138614\n",
      "depth: 5\tmin_n_leaf: 15 f1_score: 0.6415094339622641\n",
      "depth: 7\tmin_n_leaf: 15 f1_score: 0.6371681415929203\n",
      "depth: 9\tmin_n_leaf: 15 f1_score: 0.6371681415929203\n",
      "depth: 11\tmin_n_leaf: 15 f1_score: 0.6371681415929203\n",
      "depth: 13\tmin_n_leaf: 15 f1_score: 0.6371681415929203\n",
      "depth: 15\tmin_n_leaf: 15 f1_score: 0.6371681415929203\n",
      "depth: 17\tmin_n_leaf: 15 f1_score: 0.6371681415929203\n",
      "depth: 19\tmin_n_leaf: 15 f1_score: 0.6371681415929203\n",
      "depth: 1\tmin_n_leaf: 16 f1_score: 0.6456692913385826\n",
      "depth: 3\tmin_n_leaf: 16 f1_score: 0.5274725274725275\n",
      "depth: 5\tmin_n_leaf: 16 f1_score: 0.6422018348623854\n",
      "depth: 7\tmin_n_leaf: 16 f1_score: 0.6434782608695653\n",
      "depth: 9\tmin_n_leaf: 16 f1_score: 0.6434782608695653\n",
      "depth: 11\tmin_n_leaf: 16 f1_score: 0.6434782608695653\n",
      "depth: 13\tmin_n_leaf: 16 f1_score: 0.6434782608695653\n",
      "depth: 15\tmin_n_leaf: 16 f1_score: 0.6434782608695653\n",
      "depth: 17\tmin_n_leaf: 16 f1_score: 0.6434782608695653\n",
      "depth: 19\tmin_n_leaf: 16 f1_score: 0.6434782608695653\n",
      "depth: 1\tmin_n_leaf: 17 f1_score: 0.6456692913385826\n",
      "depth: 3\tmin_n_leaf: 17 f1_score: 0.5274725274725275\n",
      "depth: 5\tmin_n_leaf: 17 f1_score: 0.5510204081632653\n",
      "depth: 7\tmin_n_leaf: 17 f1_score: 0.5576923076923077\n",
      "depth: 9\tmin_n_leaf: 17 f1_score: 0.5576923076923077\n",
      "depth: 11\tmin_n_leaf: 17 f1_score: 0.5576923076923077\n",
      "depth: 13\tmin_n_leaf: 17 f1_score: 0.5576923076923077\n",
      "depth: 15\tmin_n_leaf: 17 f1_score: 0.5576923076923077\n",
      "depth: 17\tmin_n_leaf: 17 f1_score: 0.5576923076923077\n",
      "depth: 19\tmin_n_leaf: 17 f1_score: 0.5576923076923077\n",
      "depth: 1\tmin_n_leaf: 18 f1_score: 0.6456692913385826\n",
      "depth: 3\tmin_n_leaf: 18 f1_score: 0.5274725274725275\n",
      "depth: 5\tmin_n_leaf: 18 f1_score: 0.5510204081632653\n"
     ]
    },
    {
     "name": "stdout",
     "output_type": "stream",
     "text": [
      "depth: 7\tmin_n_leaf: 18 f1_score: 0.5510204081632653\n",
      "depth: 9\tmin_n_leaf: 18 f1_score: 0.5510204081632653\n",
      "depth: 11\tmin_n_leaf: 18 f1_score: 0.5510204081632653\n",
      "depth: 13\tmin_n_leaf: 18 f1_score: 0.5510204081632653\n",
      "depth: 15\tmin_n_leaf: 18 f1_score: 0.5510204081632653\n",
      "depth: 17\tmin_n_leaf: 18 f1_score: 0.5510204081632653\n",
      "depth: 19\tmin_n_leaf: 18 f1_score: 0.5510204081632653\n",
      "depth: 1\tmin_n_leaf: 19 f1_score: 0.6456692913385826\n",
      "depth: 3\tmin_n_leaf: 19 f1_score: 0.3703703703703703\n",
      "depth: 5\tmin_n_leaf: 19 f1_score: 0.4090909090909091\n",
      "depth: 7\tmin_n_leaf: 19 f1_score: 0.4090909090909091\n",
      "depth: 9\tmin_n_leaf: 19 f1_score: 0.4090909090909091\n",
      "depth: 11\tmin_n_leaf: 19 f1_score: 0.4090909090909091\n",
      "depth: 13\tmin_n_leaf: 19 f1_score: 0.4090909090909091\n",
      "depth: 15\tmin_n_leaf: 19 f1_score: 0.4090909090909091\n",
      "depth: 17\tmin_n_leaf: 19 f1_score: 0.4090909090909091\n",
      "depth: 19\tmin_n_leaf: 19 f1_score: 0.4090909090909091\n",
      "depth: 1\tmin_n_leaf: 20 f1_score: 0.6456692913385826\n",
      "depth: 3\tmin_n_leaf: 20 f1_score: 0.3703703703703703\n",
      "depth: 5\tmin_n_leaf: 20 f1_score: 0.37647058823529417\n",
      "depth: 7\tmin_n_leaf: 20 f1_score: 0.3917525773195876\n",
      "depth: 9\tmin_n_leaf: 20 f1_score: 0.3917525773195876\n",
      "depth: 11\tmin_n_leaf: 20 f1_score: 0.3917525773195876\n",
      "depth: 13\tmin_n_leaf: 20 f1_score: 0.3917525773195876\n",
      "depth: 15\tmin_n_leaf: 20 f1_score: 0.3917525773195876\n",
      "depth: 17\tmin_n_leaf: 20 f1_score: 0.3917525773195876\n",
      "depth: 19\tmin_n_leaf: 20 f1_score: 0.3917525773195876\n",
      "depth: 1\tmin_n_leaf: 21 f1_score: 0.6456692913385826\n",
      "depth: 3\tmin_n_leaf: 21 f1_score: 0.3703703703703703\n",
      "depth: 5\tmin_n_leaf: 21 f1_score: 0.37647058823529417\n",
      "depth: 7\tmin_n_leaf: 21 f1_score: 0.37647058823529417\n",
      "depth: 9\tmin_n_leaf: 21 f1_score: 0.37647058823529417\n",
      "depth: 11\tmin_n_leaf: 21 f1_score: 0.37647058823529417\n",
      "depth: 13\tmin_n_leaf: 21 f1_score: 0.37647058823529417\n",
      "depth: 15\tmin_n_leaf: 21 f1_score: 0.37647058823529417\n",
      "depth: 17\tmin_n_leaf: 21 f1_score: 0.37647058823529417\n",
      "depth: 19\tmin_n_leaf: 21 f1_score: 0.37647058823529417\n",
      "depth: 1\tmin_n_leaf: 22 f1_score: 0.6456692913385826\n",
      "depth: 3\tmin_n_leaf: 22 f1_score: 0.3703703703703703\n",
      "depth: 5\tmin_n_leaf: 22 f1_score: 0.4\n",
      "depth: 7\tmin_n_leaf: 22 f1_score: 0.4\n",
      "depth: 9\tmin_n_leaf: 22 f1_score: 0.4\n",
      "depth: 11\tmin_n_leaf: 22 f1_score: 0.4\n",
      "depth: 13\tmin_n_leaf: 22 f1_score: 0.4\n",
      "depth: 15\tmin_n_leaf: 22 f1_score: 0.4\n",
      "depth: 17\tmin_n_leaf: 22 f1_score: 0.4\n",
      "depth: 19\tmin_n_leaf: 22 f1_score: 0.4\n",
      "depth: 1\tmin_n_leaf: 23 f1_score: 0.6456692913385826\n",
      "depth: 3\tmin_n_leaf: 23 f1_score: 0.3703703703703703\n",
      "depth: 5\tmin_n_leaf: 23 f1_score: 0.4\n",
      "depth: 7\tmin_n_leaf: 23 f1_score: 0.4\n",
      "depth: 9\tmin_n_leaf: 23 f1_score: 0.4\n",
      "depth: 11\tmin_n_leaf: 23 f1_score: 0.4\n",
      "depth: 13\tmin_n_leaf: 23 f1_score: 0.4\n",
      "depth: 15\tmin_n_leaf: 23 f1_score: 0.4\n",
      "depth: 17\tmin_n_leaf: 23 f1_score: 0.4\n",
      "depth: 19\tmin_n_leaf: 23 f1_score: 0.4\n",
      "depth: 1\tmin_n_leaf: 24 f1_score: 0.6456692913385826\n",
      "depth: 3\tmin_n_leaf: 24 f1_score: 0.3703703703703703\n",
      "depth: 5\tmin_n_leaf: 24 f1_score: 0.391304347826087\n",
      "depth: 7\tmin_n_leaf: 24 f1_score: 0.391304347826087\n",
      "depth: 9\tmin_n_leaf: 24 f1_score: 0.391304347826087\n",
      "depth: 11\tmin_n_leaf: 24 f1_score: 0.391304347826087\n",
      "depth: 13\tmin_n_leaf: 24 f1_score: 0.391304347826087\n",
      "depth: 15\tmin_n_leaf: 24 f1_score: 0.391304347826087\n",
      "depth: 17\tmin_n_leaf: 24 f1_score: 0.391304347826087\n",
      "depth: 19\tmin_n_leaf: 24 f1_score: 0.391304347826087\n",
      "depth: 1\tmin_n_leaf: 25 f1_score: 0.6456692913385826\n",
      "depth: 3\tmin_n_leaf: 25 f1_score: 0.3703703703703703\n",
      "depth: 5\tmin_n_leaf: 25 f1_score: 0.43181818181818177\n",
      "depth: 7\tmin_n_leaf: 25 f1_score: 0.43181818181818177\n",
      "depth: 9\tmin_n_leaf: 25 f1_score: 0.43181818181818177\n",
      "depth: 11\tmin_n_leaf: 25 f1_score: 0.43181818181818177\n",
      "depth: 13\tmin_n_leaf: 25 f1_score: 0.43181818181818177\n",
      "depth: 15\tmin_n_leaf: 25 f1_score: 0.43181818181818177\n",
      "depth: 17\tmin_n_leaf: 25 f1_score: 0.43181818181818177\n",
      "depth: 19\tmin_n_leaf: 25 f1_score: 0.43181818181818177\n",
      "depth: 1\tmin_n_leaf: 26 f1_score: 0.6456692913385826\n",
      "depth: 3\tmin_n_leaf: 26 f1_score: 0.3703703703703703\n",
      "depth: 5\tmin_n_leaf: 26 f1_score: 0.43181818181818177\n",
      "depth: 7\tmin_n_leaf: 26 f1_score: 0.43181818181818177\n",
      "depth: 9\tmin_n_leaf: 26 f1_score: 0.43181818181818177\n",
      "depth: 11\tmin_n_leaf: 26 f1_score: 0.43181818181818177\n",
      "depth: 13\tmin_n_leaf: 26 f1_score: 0.43181818181818177\n",
      "depth: 15\tmin_n_leaf: 26 f1_score: 0.43181818181818177\n",
      "depth: 17\tmin_n_leaf: 26 f1_score: 0.43181818181818177\n",
      "depth: 19\tmin_n_leaf: 26 f1_score: 0.43181818181818177\n",
      "depth: 1\tmin_n_leaf: 27 f1_score: 0.6456692913385826\n",
      "depth: 3\tmin_n_leaf: 27 f1_score: 0.3703703703703703\n",
      "depth: 5\tmin_n_leaf: 27 f1_score: 0.43181818181818177\n",
      "depth: 7\tmin_n_leaf: 27 f1_score: 0.43181818181818177\n",
      "depth: 9\tmin_n_leaf: 27 f1_score: 0.43181818181818177\n",
      "depth: 11\tmin_n_leaf: 27 f1_score: 0.43181818181818177\n",
      "depth: 13\tmin_n_leaf: 27 f1_score: 0.43181818181818177\n",
      "depth: 15\tmin_n_leaf: 27 f1_score: 0.43181818181818177\n",
      "depth: 17\tmin_n_leaf: 27 f1_score: 0.43181818181818177\n",
      "depth: 19\tmin_n_leaf: 27 f1_score: 0.43181818181818177\n",
      "depth: 1\tmin_n_leaf: 28 f1_score: 0.6456692913385826\n",
      "depth: 3\tmin_n_leaf: 28 f1_score: 0.3703703703703703\n",
      "depth: 5\tmin_n_leaf: 28 f1_score: 0.43181818181818177\n",
      "depth: 7\tmin_n_leaf: 28 f1_score: 0.43181818181818177\n",
      "depth: 9\tmin_n_leaf: 28 f1_score: 0.43181818181818177\n",
      "depth: 11\tmin_n_leaf: 28 f1_score: 0.43181818181818177\n",
      "depth: 13\tmin_n_leaf: 28 f1_score: 0.43181818181818177\n",
      "depth: 15\tmin_n_leaf: 28 f1_score: 0.43181818181818177\n",
      "depth: 17\tmin_n_leaf: 28 f1_score: 0.43181818181818177\n",
      "depth: 19\tmin_n_leaf: 28 f1_score: 0.43181818181818177\n",
      "depth: 1\tmin_n_leaf: 29 f1_score: 0.6456692913385826\n",
      "depth: 3\tmin_n_leaf: 29 f1_score: 0.3703703703703703\n",
      "depth: 5\tmin_n_leaf: 29 f1_score: 0.43181818181818177\n",
      "depth: 7\tmin_n_leaf: 29 f1_score: 0.43181818181818177\n",
      "depth: 9\tmin_n_leaf: 29 f1_score: 0.43181818181818177\n",
      "depth: 11\tmin_n_leaf: 29 f1_score: 0.43181818181818177\n",
      "depth: 13\tmin_n_leaf: 29 f1_score: 0.43181818181818177\n",
      "depth: 15\tmin_n_leaf: 29 f1_score: 0.43181818181818177\n",
      "depth: 17\tmin_n_leaf: 29 f1_score: 0.43181818181818177\n",
      "depth: 19\tmin_n_leaf: 29 f1_score: 0.43181818181818177\n",
      "==================================================\n",
      "0.6542056074766355\n",
      "(5, 2)\n"
     ]
    }
   ],
   "source": [
    "range_depth = np.arange(1, 20, 2)\n",
    "range_n_leaf = np.arange(2, 30)\n",
    "A, B = np.meshgrid(range_depth, range_n_leaf)\n",
    "pairs = list(zip(A.ravel(), B.ravel()))\n",
    "best_score = 0\n",
    "best_pair = (None, None)\n",
    "for depth, min_n_leaf in tqdm(pairs):\n",
    "    tree = DecisionTreeClassifier(max_depth=depth, min_samples_leaf=min_n_leaf)\n",
    "    tree.fit(X_train, y_train)\n",
    "    score = f1_score(y_val, tree.predict(X_val))\n",
    "    if score > best_score:\n",
    "        best_score = score\n",
    "        best_pair = (depth, min_n_leaf)\n",
    "    print(f'depth: {depth}\\tmin_n_leaf: {min_n_leaf} f1_score: {score}')\n",
    "\n",
    "print('='*50)\n",
    "print(best_score)\n",
    "print(best_pair)"
   ]
  },
  {
   "cell_type": "code",
   "execution_count": 145,
   "metadata": {},
   "outputs": [
    {
     "data": {
      "text/html": [
       "<style>#sk-container-id-1 {color: black;background-color: white;}#sk-container-id-1 pre{padding: 0;}#sk-container-id-1 div.sk-toggleable {background-color: white;}#sk-container-id-1 label.sk-toggleable__label {cursor: pointer;display: block;width: 100%;margin-bottom: 0;padding: 0.3em;box-sizing: border-box;text-align: center;}#sk-container-id-1 label.sk-toggleable__label-arrow:before {content: \"▸\";float: left;margin-right: 0.25em;color: #696969;}#sk-container-id-1 label.sk-toggleable__label-arrow:hover:before {color: black;}#sk-container-id-1 div.sk-estimator:hover label.sk-toggleable__label-arrow:before {color: black;}#sk-container-id-1 div.sk-toggleable__content {max-height: 0;max-width: 0;overflow: hidden;text-align: left;background-color: #f0f8ff;}#sk-container-id-1 div.sk-toggleable__content pre {margin: 0.2em;color: black;border-radius: 0.25em;background-color: #f0f8ff;}#sk-container-id-1 input.sk-toggleable__control:checked~div.sk-toggleable__content {max-height: 200px;max-width: 100%;overflow: auto;}#sk-container-id-1 input.sk-toggleable__control:checked~label.sk-toggleable__label-arrow:before {content: \"▾\";}#sk-container-id-1 div.sk-estimator input.sk-toggleable__control:checked~label.sk-toggleable__label {background-color: #d4ebff;}#sk-container-id-1 div.sk-label input.sk-toggleable__control:checked~label.sk-toggleable__label {background-color: #d4ebff;}#sk-container-id-1 input.sk-hidden--visually {border: 0;clip: rect(1px 1px 1px 1px);clip: rect(1px, 1px, 1px, 1px);height: 1px;margin: -1px;overflow: hidden;padding: 0;position: absolute;width: 1px;}#sk-container-id-1 div.sk-estimator {font-family: monospace;background-color: #f0f8ff;border: 1px dotted black;border-radius: 0.25em;box-sizing: border-box;margin-bottom: 0.5em;}#sk-container-id-1 div.sk-estimator:hover {background-color: #d4ebff;}#sk-container-id-1 div.sk-parallel-item::after {content: \"\";width: 100%;border-bottom: 1px solid gray;flex-grow: 1;}#sk-container-id-1 div.sk-label:hover label.sk-toggleable__label {background-color: #d4ebff;}#sk-container-id-1 div.sk-serial::before {content: \"\";position: absolute;border-left: 1px solid gray;box-sizing: border-box;top: 0;bottom: 0;left: 50%;z-index: 0;}#sk-container-id-1 div.sk-serial {display: flex;flex-direction: column;align-items: center;background-color: white;padding-right: 0.2em;padding-left: 0.2em;position: relative;}#sk-container-id-1 div.sk-item {position: relative;z-index: 1;}#sk-container-id-1 div.sk-parallel {display: flex;align-items: stretch;justify-content: center;background-color: white;position: relative;}#sk-container-id-1 div.sk-item::before, #sk-container-id-1 div.sk-parallel-item::before {content: \"\";position: absolute;border-left: 1px solid gray;box-sizing: border-box;top: 0;bottom: 0;left: 50%;z-index: -1;}#sk-container-id-1 div.sk-parallel-item {display: flex;flex-direction: column;z-index: 1;position: relative;background-color: white;}#sk-container-id-1 div.sk-parallel-item:first-child::after {align-self: flex-end;width: 50%;}#sk-container-id-1 div.sk-parallel-item:last-child::after {align-self: flex-start;width: 50%;}#sk-container-id-1 div.sk-parallel-item:only-child::after {width: 0;}#sk-container-id-1 div.sk-dashed-wrapped {border: 1px dashed gray;margin: 0 0.4em 0.5em 0.4em;box-sizing: border-box;padding-bottom: 0.4em;background-color: white;}#sk-container-id-1 div.sk-label label {font-family: monospace;font-weight: bold;display: inline-block;line-height: 1.2em;}#sk-container-id-1 div.sk-label-container {text-align: center;}#sk-container-id-1 div.sk-container {/* jupyter's `normalize.less` sets `[hidden] { display: none; }` but bootstrap.min.css set `[hidden] { display: none !important; }` so we also need the `!important` here to be able to override the default hidden behavior on the sphinx rendered scikit-learn.org. See: https://github.com/scikit-learn/scikit-learn/issues/21755 */display: inline-block !important;position: relative;}#sk-container-id-1 div.sk-text-repr-fallback {display: none;}</style><div id=\"sk-container-id-1\" class=\"sk-top-container\"><div class=\"sk-text-repr-fallback\"><pre>DecisionTreeClassifier(max_depth=5, min_samples_leaf=2)</pre><b>In a Jupyter environment, please rerun this cell to show the HTML representation or trust the notebook. <br />On GitHub, the HTML representation is unable to render, please try loading this page with nbviewer.org.</b></div><div class=\"sk-container\" hidden><div class=\"sk-item\"><div class=\"sk-estimator sk-toggleable\"><input class=\"sk-toggleable__control sk-hidden--visually\" id=\"sk-estimator-id-1\" type=\"checkbox\" checked><label for=\"sk-estimator-id-1\" class=\"sk-toggleable__label sk-toggleable__label-arrow\">DecisionTreeClassifier</label><div class=\"sk-toggleable__content\"><pre>DecisionTreeClassifier(max_depth=5, min_samples_leaf=2)</pre></div></div></div></div></div>"
      ],
      "text/plain": [
       "DecisionTreeClassifier(max_depth=5, min_samples_leaf=2)"
      ]
     },
     "execution_count": 145,
     "metadata": {},
     "output_type": "execute_result"
    }
   ],
   "source": [
    "tree = DecisionTreeClassifier(max_depth=5, min_samples_leaf=2)\n",
    "tree.fit(X_train_val, y_train_val)"
   ]
  },
  {
   "cell_type": "code",
   "execution_count": 146,
   "metadata": {},
   "outputs": [],
   "source": [
    "from sklearn.metrics import roc_auc_score"
   ]
  },
  {
   "cell_type": "code",
   "execution_count": 150,
   "metadata": {},
   "outputs": [
    {
     "name": "stdout",
     "output_type": "stream",
     "text": [
      "accuracy 0.7272727272727273\n",
      "precision 0.7\n",
      "recall 0.42168674698795183\n",
      "roc_auc 0.6601676978183002\n"
     ]
    }
   ],
   "source": [
    "print('accuracy', accuracy_score(y_test, tree.predict(X_test)))\n",
    "print('precision', precision_score(y_test, tree.predict(X_test)))\n",
    "print('recall', recall_score(y_test, tree.predict(X_test)))\n",
    "print('roc_auc', roc_auc_score(y_test, tree.predict(X_test)))"
   ]
  },
  {
   "cell_type": "markdown",
   "metadata": {},
   "source": [
    "**Задание 3.3 (0.5 балла)** Обучите [`BaggingClassifier`](https://scikit-learn.org/stable/modules/generated/sklearn.ensemble.BaggingClassifier.html) на 50 деревьях на **полной обучающей** выборке. Оцените качество классификации на тестовой выборке по тем же метрикам."
   ]
  },
  {
   "cell_type": "code",
   "execution_count": 152,
   "metadata": {},
   "outputs": [
    {
     "name": "stdout",
     "output_type": "stream",
     "text": [
      "accuracy 0.8008658008658008\n",
      "precision 0.7681159420289855\n",
      "recall 0.6385542168674698\n",
      "roc_auc 0.7652230543796809\n"
     ]
    }
   ],
   "source": [
    "bag_cls = BaggingClassifier(n_estimators=50).fit(X_train_val, y_train_val)\n",
    "\n",
    "print('accuracy', accuracy_score(y_test, bag_cls.predict(X_test)))\n",
    "print('precision', precision_score(y_test, bag_cls.predict(X_test)))\n",
    "print('recall', recall_score(y_test, bag_cls.predict(X_test)))\n",
    "print('roc_auc', roc_auc_score(y_test, bag_cls.predict(X_test)))"
   ]
  },
  {
   "cell_type": "markdown",
   "metadata": {},
   "source": [
    "##### результаты заметно улучшились"
   ]
  },
  {
   "cell_type": "markdown",
   "metadata": {},
   "source": [
    "**Задание 3.4 (1 балл)** Выполните кросс-валидацию на полной обучающей выборке и подберите оптимальные значения гиперпараметров `max_depth` и `min_samples_split` для `Random Forest` с 50 деревьями. Для этого:\n",
    "\n",
    "1. Создайте списки с возможными значениями для перебора.\n",
    "2. Для каждой пары значений проведите кросс-валидацию на полной обучающей выборке. Количество разбиений выберите на ваш вкус. В качестве критерия будем использовать `f1-меру`. Усредните значение критерия по всем прогонам кросс-валидации. \n",
    "3. Выберите ту пару значений, которая даёт наилучшее среднее качество. \n",
    "\n",
    "Обучите случайный лес с подобранными гиперпараметрами на **полной обучающей** выборке. Оцените качество классификации по тем же метрикам. Какая из трёх построенных моделей показала себя лучше?"
   ]
  },
  {
   "cell_type": "code",
   "execution_count": 153,
   "metadata": {},
   "outputs": [],
   "source": [
    "from sklearn.model_selection import GridSearchCV"
   ]
  },
  {
   "cell_type": "code",
   "execution_count": 157,
   "metadata": {},
   "outputs": [
    {
     "name": "stdout",
     "output_type": "stream",
     "text": [
      "{'max_depth': 15, 'min_samples_split': 7}\n",
      "0.6526967150496562\n"
     ]
    }
   ],
   "source": [
    "cv_search = GridSearchCV(RandomForestClassifier(n_estimators=50),\n",
    "                         param_grid={\n",
    "                             'max_depth': np.arange(1, 30, 2),\n",
    "                             'min_samples_split': np.arange(2, 30)\n",
    "                         }, scoring='f1', n_jobs=-1)\n",
    "cv_search.fit(X_train_val, y_train_val)\n",
    "\n",
    "print(cv_search.best_params_)\n",
    "print(cv_search.best_score_)"
   ]
  },
  {
   "cell_type": "markdown",
   "metadata": {},
   "source": [
    "##### Как и ожидалось от random forest, деревья стали глубже"
   ]
  },
  {
   "cell_type": "code",
   "execution_count": 158,
   "metadata": {},
   "outputs": [
    {
     "name": "stdout",
     "output_type": "stream",
     "text": [
      "accuracy 0.7878787878787878\n",
      "precision 0.7575757575757576\n",
      "recall 0.6024096385542169\n",
      "roc_auc 0.7471507652230543\n"
     ]
    }
   ],
   "source": [
    "random_forest = RandomForestClassifier(n_estimators=50, max_depth=15, min_samples_split=7).fit(X_train_val, y_train_val)\n",
    "\n",
    "print('accuracy', accuracy_score(y_test, random_forest.predict(X_test)))\n",
    "print('precision', precision_score(y_test, random_forest.predict(X_test)))\n",
    "print('recall', recall_score(y_test, random_forest.predict(X_test)))\n",
    "print('roc_auc', roc_auc_score(y_test, random_forest.predict(X_test)))"
   ]
  },
  {
   "cell_type": "markdown",
   "metadata": {},
   "source": [
    "##### Последние две модели делят первое место. Метрики показали похожие результаты"
   ]
  },
  {
   "cell_type": "code",
   "execution_count": null,
   "metadata": {},
   "outputs": [],
   "source": []
  },
  {
   "cell_type": "markdown",
   "metadata": {},
   "source": [
    "**Задание 3.5 (0.5 балла)** Постройте график зависимости AUC ROC на тестовой выборке от числа деревьев (`n_estimators`) для случайного леса, обучаемого на **полной обучающей** выборке. Какие выводы можно сделать?"
   ]
  },
  {
   "cell_type": "code",
   "execution_count": 160,
   "metadata": {},
   "outputs": [
    {
     "data": {
      "application/vnd.jupyter.widget-view+json": {
       "model_id": "eb71d56a4cc7469ea98c222370d3d361",
       "version_major": 2,
       "version_minor": 0
      },
      "text/plain": [
       "  0%|          | 0/49 [00:00<?, ?it/s]"
      ]
     },
     "metadata": {},
     "output_type": "display_data"
    }
   ],
   "source": [
    "range_n_estimators = np.arange(1, 50)\n",
    "scores = []\n",
    "for n_estimators in tqdm(range_n_estimators):\n",
    "    # используем опыт из предыдущего задания\n",
    "    forest = RandomForestClassifier(n_estimators=n_estimators, max_depth=15, min_samples_split=7)\n",
    "    forest.fit(X_train_val, y_train_val)\n",
    "    scores.append(roc_auc_score(y_test, forest.predict(X_test)))"
   ]
  },
  {
   "cell_type": "code",
   "execution_count": 164,
   "metadata": {},
   "outputs": [
    {
     "data": {
      "text/plain": [
       "[<matplotlib.lines.Line2D at 0x27a69ab8550>]"
      ]
     },
     "execution_count": 164,
     "metadata": {},
     "output_type": "execute_result"
    },
    {
     "data": {
      "image/png": "[encoded data removed]",
      "text/plain": [
       "<Figure size 1080x576 with 1 Axes>"
      ]
     },
     "metadata": {
      "needs_background": "light"
     },
     "output_type": "display_data"
    }
   ],
   "source": [
    "plt.figure(figsize=(15, 8))\n",
    "plt.grid()\n",
    "plt.title('Зависимость ROC_AUC от n_estimators')\n",
    "plt.xlabel('n_estimators')\n",
    "plt.ylabel('ROC_AUC')\n",
    "plt.xticks(range_n_estimators)\n",
    "plt.plot(range_n_estimators, scores)"
   ]
  },
  {
   "cell_type": "markdown",
   "metadata": {},
   "source": [
    "**Задание 3.6 (0.5 балла)** Для лучшей модели случайного леса из **Задания 3.4** посчитайте важность признаков и постройте bar plot. Какой признак оказался самым важным для определения диабета?"
   ]
  },
  {
   "cell_type": "code",
   "execution_count": 169,
   "metadata": {},
   "outputs": [
    {
     "data": {
      "image/png": "[encoded data removed]",
      "text/plain": [
       "<Figure size 1080x504 with 1 Axes>"
      ]
     },
     "metadata": {
      "needs_background": "light"
     },
     "output_type": "display_data"
    }
   ],
   "source": [
    "feature_importances = random_forest.feature_importances_\n",
    "plt.figure(figsize=(15, 7))\n",
    "plt.bar(cols, feature_importances);"
   ]
  },
  {
   "cell_type": "markdown",
   "metadata": {},
   "source": [
    "##### Самым важным признаком оказался уровень содержания глюкозы, что неудивительно для диабета"
   ]
  },
  {
   "cell_type": "code",
   "execution_count": null,
   "metadata": {},
   "outputs": [],
   "source": []
  }
 ],
 "metadata": {
  "kernelspec": {
   "display_name": "Python 3 (ipykernel)",
   "language": "python",
   "name": "python3"
  },
  "language_info": {
   "codemirror_mode": {
    "name": "ipython",
    "version": 3
   },
   "file_extension": ".py",
   "mimetype": "text/x-python",
   "name": "python",
   "nbconvert_exporter": "python",
   "pygments_lexer": "ipython3",
   "version": "3.9.7"
  }
 },
 "nbformat": 4,
 "nbformat_minor": 4
}
